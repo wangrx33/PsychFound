{
 "cells": [
  {
   "cell_type": "code",
   "execution_count": null,
   "id": "1319d383",
   "metadata": {},
   "outputs": [],
   "source": [
    "import pandas as pd\n",
    "import numpy as np\n",
    "import os\n",
    "import sys\n",
    "import json\n",
    "import re\n",
    "import datetime\n",
    "import ollama\n",
    "from tqdm import tqdm\n",
    "import openai\n",
    "\n",
    "import plotly.express as px\n",
    "import pandas as pd\n",
    "import numpy as np\n",
    "from scipy.stats import mannwhitneyu\n",
    "\n",
    "# \n",
    "def draw_boxplot(metric_name, control_values, experimental_values):\n",
    "\n",
    "    metrics = [metric_name,]\n",
    "\n",
    "    data = []\n",
    "    for metric in metrics:\n",
    "        for group in ['Control', 'Experimental']:\n",
    "            if group == 'Control':\n",
    "                values = control_values\n",
    "            elif group == 'Experimental':\n",
    "                values = experimental_values\n",
    "            for value in values:\n",
    "                data.append([group, metric, value])\n",
    "\n",
    "    # 创建 DataFrame\n",
    "    df = pd.DataFrame(data, columns=['Group', 'Metric', 'Value'])\n",
    "\n",
    "    # 绘制箱线图\n",
    "    fig = px.box(df, x='Metric', y='Value', color='Group', \n",
    "                category_orders={'Metric': metrics},\n",
    "                labels={'Value': 'Score', 'Metric': 'Clinical Task Metric'},\n",
    "                #  title=\"Comparison of Clinical Task Performance between Control and Experimental Groups\"\n",
    "                )\n",
    "\n",
    "    # 美化图形\n",
    "    fig.update_layout(\n",
    "        title_font=dict(size=20, family='Arial, sans-serif'),\n",
    "        xaxis_title_font=dict(size=14, family='Arial, sans-serif'),\n",
    "        yaxis_title_font=dict(size=14, family='Arial, sans-serif'),\n",
    "        legend_title=dict(font=dict(size=14)),\n",
    "        font=dict(family='Arial, sans-serif', size=12),\n",
    "        boxmode='group',  # 分组箱线图\n",
    "        plot_bgcolor='white',  # 背景白色\n",
    "        showlegend=True,\n",
    "        height=400,  # 缩小画幅高度\n",
    "        width=500,   # 缩小画幅宽度\n",
    "    )\n",
    "\n",
    "    # 显示图形\n",
    "    # fig.show()\n",
    "\n",
    "    # 取两组数据\n",
    "    control = df[df['Group'] == 'Control']['Value']\n",
    "    experimental = df[df['Group'] == 'Experimental']['Value']\n",
    "\n",
    "    # Mann-Whitney U 检验（非参数检验，适用于非正态分布）\n",
    "    stat, p = mannwhitneyu(control, experimental, alternative='two-sided')\n",
    "    print(f\"Mann-Whitney U 检验: U={stat:.2f}, p-value={p:.4f}\")\n",
    "\n",
    "    # 可在图上添加显著性标记\n",
    "    if p < 0.05:\n",
    "        significance = '*'\n",
    "    else:\n",
    "        significance = 'ns'\n",
    "\n",
    "    fig.add_annotation(\n",
    "        x=0, y=max(df['Value']),\n",
    "        text=f'p={p:.4f} {significance}',\n",
    "        showarrow=False,\n",
    "        font=dict(size=14, color='black'),\n",
    "        yshift=20\n",
    "    )\n",
    "    fig.show()\n",
    "\n",
    "    # 导出为PNG格式，分辨率设置为300DPI\n",
    "    # fig.write_image(\"scatter_1.png\", width=500, height=400, scale=3)\n",
    "\n",
    "\n",
    "# 读取数据\n",
    "\n",
    "dzz_records = pd.read_excel(r'D:\\work\\code\\psychgpt\\prospective\\CRF\\dzz.xlsx')\n",
    "dzz_basic_df = pd.read_excel(r'D:\\work\\code\\psychgpt\\prospective\\20250522\\dzz基本信息.xlsx')\n",
    "dzz_order_df = pd.read_excel(r'D:\\work\\code\\psychgpt\\prospective\\20250522\\dzz药品医嘱.xlsx')\n",
    "dzz_scale_df = pd.read_excel(r'D:\\work\\code\\psychgpt\\prospective\\20250522\\dzz量表.xlsx')\n",
    "dzz_sc_df = pd.read_excel(r'D:\\work\\code\\psychgpt\\prospective\\20250522\\dzz首程.xlsx')\n",
    "\n",
    "syz_records = pd.read_excel(r'D:\\work\\code\\psychgpt\\prospective\\CRF\\syz.xlsx')\n",
    "syz_basic_df = pd.read_excel(r'D:\\work\\code\\psychgpt\\prospective\\20250522\\syz基本信息.xlsx')\n",
    "syz_order_df = pd.read_excel(r'D:\\work\\code\\psychgpt\\prospective\\20250522\\syz药品医嘱.xlsx')\n",
    "syz_scale_df = pd.read_excel(r'D:\\work\\code\\psychgpt\\prospective\\20250522\\syz量表.xlsx')\n",
    "syz_sc_df = pd.read_excel(r'D:\\work\\code\\psychgpt\\prospective\\20250522\\syz首程.xlsx')\n",
    "\n",
    "medication_list_simple = [\n",
    "    \"氯硝西泮\",\n",
    "    \"卡马西平\",\n",
    "    \"苯妥英钠\",\n",
    "    \"丙戊酸\",\n",
    "    \"托吡酯\",\n",
    "    \"氟西汀\",\n",
    "    \"文拉法辛\",\n",
    "    \"扎来普隆\",\n",
    "    \"阿普唑仑\",\n",
    "    \"佐匹克隆\",\n",
    "    \"奋乃静\",\n",
    "    \"安非他酮\",\n",
    "    \"碳酸锂\",\n",
    "    \"地西泮\",\n",
    "    \"多巴丝肼\",\n",
    "    \"奥沙西泮\",\n",
    "    \"丙戊酸\",\n",
    "    \"阿米替林\",\n",
    "    \"氯硝西泮\",\n",
    "    \"氟哌啶醇\",\n",
    "    \"硝西泮\",\n",
    "    \"氢溴酸西酞普兰\",\n",
    "    \"文拉法辛\",\n",
    "    \"盐酸丁螺环酮片\",\n",
    "    \"氟伏沙明\",\n",
    "    \"米安色林\",\n",
    "    \"阿立哌唑\",\n",
    "    \"度洛西汀\",\n",
    "    \"坦度螺酮\",\n",
    "    \"齐拉西酮\",\n",
    "    \"度洛西汀\",\n",
    "    \"帕利哌酮\",\n",
    "    \"氨磺必利\",\n",
    "    \"托莫西汀\",\n",
    "    \"拉莫三嗪\",\n",
    "    \"氢溴酸西酞普兰\",\n",
    "    \"马来酸咪达唑仑\",\n",
    "    \"劳拉西泮\",\n",
    "    \"盐酸舍曲林\",\n",
    "    \"奋乃静\",\n",
    "    \"酒石酸唑吡坦\",\n",
    "    \"氟哌啶醇\",\n",
    "    \"氯丙嗪\",\n",
    "    \"米氮平\",\n",
    "    \"哌甲酯\",\n",
    "    \"曲唑酮\",\n",
    "    \"氯米帕明\",\n",
    "    \"佐匹克隆\",\n",
    "    \"喹硫平\",\n",
    "    \"苯巴比妥\",\n",
    "    \"地西泮\",\n",
    "    \"哌罗匹隆\",\n",
    "    \"安非他酮\",\n",
    "    \"艾司唑仑\",\n",
    "    \"阿立哌唑\",\n",
    "    \"多塞平\",\n",
    "    \"苯海索\",\n",
    "    \"氯丙嗪\",\n",
    "    \"甲钴胺\",\n",
    "    \"舒必利\",\n",
    "    \"谷维素\",\n",
    "    \"氯氮平\",\n",
    "    \"氟哌啶醇\",\n",
    "    \"马普替林\",\n",
    "    \"氟奋乃静\",\n",
    "    \"氟哌噻吨\",\n",
    "    \"碳酸锂\",\n",
    "    \"丙戊酸\",\n",
    "    \"五氟利多\",\n",
    "    \"齐拉西酮\",\n",
    "    \"米那普仑\",\n",
    "    \"氯氮平\",\n",
    "    \"可乐定透\",\n",
    "    \"阿戈美拉汀\",\n",
    "    \"喹硫平\",\n",
    "    \"圣约翰草提取物\",\n",
    "    \"布南色林\",\n",
    "    \"伏硫西汀\",\n",
    "    \"右佐匹克隆\",\n",
    "    \"帕罗西汀\",\n",
    "    \"帕利哌酮\",\n",
    "    \"氟西汀\",\n",
    "    \"鲁拉西酮\",\n",
    "    \"托莫西汀\",\n",
    "    \"普瑞巴林\",\n",
    "    \"丙戊酸\",\n",
    "    \"氟西汀\",\n",
    "    \"利斯的明\",\n",
    "    \"阿立哌唑\",\n",
    "    \"帕利哌酮\",\n",
    "    \"吡贝地尔\",\n",
    "    \"氘丁苯那嗪\",\n",
    "    \"普拉克索\",\n",
    "    \"咪达唑仑\",\n",
    "    \"拉莫三嗪\",\n",
    "    \"氢溴酸西酞普兰\",\n",
    "    \"恩他卡朋\",\n",
    "    \"盐酸金刚烷胺\",\n",
    "    \"甲磺酸雷沙吉兰\",\n",
    "    \"盐酸司来吉兰\",\n",
    "    \"水合氯醛\",\n",
    "    \"甲钴胺\",\n",
    "    \"氢溴酸加兰他敏\",\n",
    "    \"卡左双多巴缓释\",\n",
    "    \"苯甲酸利扎曲普坦\",\n",
    "    \"恩他卡朋双多巴\",\n",
    "    \"草酸艾司西酞普兰\",\n",
    "    \"利培酮\",\n",
    "    \"曲唑酮\",\n",
    "    \"利培酮\",\n",
    "    \"帕罗西汀\",\n",
    "    \"美金刚\",\n",
    "    \"奥氮平\"\n",
    "]\n",
    "\n",
    "medication_list = [\n",
    "    \"氯硝西泮注射液\",\n",
    "    \"卡马西平片\",\n",
    "    \"苯妥英钠片\",\n",
    "    \"丙戊酸钠片\",\n",
    "    \"丙戊酸钠缓释片\",\n",
    "    \"托吡酯片\",\n",
    "    \"盐酸氟西汀分散片\",\n",
    "    \"盐酸文拉法辛缓释胶囊\",\n",
    "    \"盐酸文拉法辛胶囊\",\n",
    "    \"扎来普隆胶囊\",\n",
    "    \"阿普唑仑片\",\n",
    "    \"佐匹克隆胶囊\",\n",
    "    \"盐酸氟奋乃静片\",\n",
    "    \"盐酸安非他酮片\",\n",
    "    \"碳酸锂片\",\n",
    "    \"地西泮片\",\n",
    "    \"多巴丝肼片\",\n",
    "    \"奥沙西泮片\",\n",
    "    \"丙戊酸钠口服溶液\",\n",
    "    \"盐酸阿米替林片\",\n",
    "    \"氯硝西泮片\",\n",
    "    \"氟哌啶醇注射液\",\n",
    "    \"硝西泮片\",\n",
    "    \"盐酸舍曲林分散片\",\n",
    "    \"氢溴酸西酞普兰胶囊\",\n",
    "    \"盐酸文拉法辛缓释片\",\n",
    "    \"盐酸丁螺环酮片\",\n",
    "    \"马来酸氟伏沙明片\",\n",
    "    \"盐酸米安色林片\",\n",
    "    \"枸橼酸坦度螺酮片\",\n",
    "    \"阿立哌唑片\",\n",
    "    \"盐酸度洛西汀肠溶片\",\n",
    "    \"枸橼酸坦度螺酮胶囊\",\n",
    "    \"盐酸齐拉西酮胶囊\",\n",
    "    \"盐酸度洛西汀肠溶胶囊\",\n",
    "    \"帕利哌酮缓释片\",\n",
    "    \"氨磺必利片\",\n",
    "    \"注射用利培酮微球\",\n",
    "    \"盐酸托莫西汀胶囊\",\n",
    "    \"拉莫三嗪片\",\n",
    "    \"氢溴酸西酞普兰片\",\n",
    "    \"马来酸咪达唑仑片\",\n",
    "    \"劳拉西泮片\",\n",
    "    \"盐酸舍曲林片\",\n",
    "    \"利培酮口服溶液\",\n",
    "    \"奋乃静片\",\n",
    "    \"酒石酸唑吡坦片\",\n",
    "    \"氟哌啶醇片\",\n",
    "    \"盐酸氯丙嗪注射液\",\n",
    "    \"米氮平片\",\n",
    "    \"盐酸哌甲酯缓释片\",\n",
    "    \"盐酸曲唑酮片\",\n",
    "    \"盐酸氯米帕明片\",\n",
    "    \"佐匹克隆片\",\n",
    "    \"富马酸喹硫平片\",\n",
    "    \"苯巴比妥片\",\n",
    "    \"地西泮注射液\",\n",
    "    \"盐酸哌罗匹隆片\",\n",
    "    \"盐酸安非他酮缓释片\",\n",
    "    \"艾司唑仑片\",\n",
    "    \"阿立哌唑口崩片\",\n",
    "    \"利培酮口崩片\",\n",
    "    \"盐酸多塞平片\",\n",
    "    \"盐酸苯海索片\",\n",
    "    \"盐酸氯丙嗪片\",\n",
    "    \"盐酸硫必利片\",\n",
    "    \"甲钴胺片\",\n",
    "    \"舒必利片\",\n",
    "    \"谷维素片\",\n",
    "    \"氯氮平片\",\n",
    "    \"癸酸氟哌啶醇注射液\",\n",
    "    \"盐酸马普替林片\",\n",
    "    \"癸氟奋乃静注射液\",\n",
    "    \"氟哌噻吨美利曲辛片\",\n",
    "    \"碳酸锂缓释片\",\n",
    "    \"丙戊酸镁缓释片\",\n",
    "    \"五氟利多片\",\n",
    "    \"棕榈酸帕利哌酮注射液\",\n",
    "    \"注射用甲磺酸齐拉西酮\",\n",
    "    \"盐酸米那普仑片\",\n",
    "    \"氯氮平口腔崩解片\",\n",
    "    \"可乐定透皮贴片\",\n",
    "    \"阿戈美拉汀片\",\n",
    "    \"富马酸喹硫平缓释片\",\n",
    "    \"圣约翰草提取物\",\n",
    "    \"布南色林片\",\n",
    "    \"氢溴酸伏硫西汀片\",\n",
    "    \"右佐匹克隆片\",\n",
    "    \"盐酸帕罗西汀肠溶缓释片\",\n",
    "    \"棕榈帕利哌酮酯注射液（3M）\",\n",
    "    \"盐酸氟西汀片\",\n",
    "    \"盐酸鲁拉西酮片\",\n",
    "    \"盐酸托莫西汀口服溶液\",\n",
    "    \"普瑞巴林胶囊\",\n",
    "    \"丙戊酸钠缓释片(Ⅰ)\",\n",
    "    \"盐酸氟西汀胶囊\",\n",
    "    \"利斯的明透皮贴剂\",\n",
    "    \"阿立哌唑口服溶液\",\n",
    "    \"棕榈帕利哌酮酯注射液(3M)\",\n",
    "    \"吡贝地尔缓释片\",\n",
    "    \"氘丁苯那嗪片\",\n",
    "    \"盐酸普拉克索片\",\n",
    "    \"咪达唑仑注射液\",\n",
    "    \"拉莫三嗪分散片\",\n",
    "    \"氢溴酸西酞普兰口服溶液\",\n",
    "    \"恩他卡朋片\",\n",
    "    \"盐酸金刚烷胺片\",\n",
    "    \"甲磺酸雷沙吉兰片\",\n",
    "    \"盐酸司来吉兰片\",\n",
    "    \"水合氯醛胶浆\",\n",
    "    \"甲钴胺注射液\",\n",
    "    \"氢溴酸加兰他敏片\",\n",
    "    \"卡左双多巴缓释片\",\n",
    "    \"苯甲酸利扎曲普坦片\",\n",
    "    \"恩他卡朋双多巴片（Ⅱ）\",\n",
    "    \"草酸艾司西酞普兰片\",\n",
    "    \"利培酮口服液\",\n",
    "    \"盐酸曲唑酮缓释片\",\n",
    "    \"奥氮平片\",\n",
    "    \"利培酮片\",\n",
    "    \"盐酸帕罗西汀片\",\n",
    "    \"盐酸美金刚片\",\n",
    "    \"奥氮平口崩片\"\n",
    "]"
   ]
  },
  {
   "cell_type": "code",
   "execution_count": 81,
   "id": "1ffff823",
   "metadata": {},
   "outputs": [
    {
     "name": "stdout",
     "output_type": "stream",
     "text": [
      "=========================问诊时间=========================\n",
      "[10.0, 120.0, 20.0, 20.0, 30.0, 5.0, 20.0, 20.0, 60.0, 30.0, 30.0, 10.0, 10.0, 30.0, 30.0, 30.0, 30.0, 20.0, 30.0, 40.0, 40.0, 60.0, 30.0, 10.0, 60.0, 30.0, 40.0, 40.0, 40.0, 50.0, 20.0, 20.0, 30.0, 60.0, 30.0, 30.0, 30.0, 10.0, 40.0, 120.0, 30.0, 60.0, 40.0, 30.0, 90.0, 45.0, 40.0, 40.0, 120.0, 45.0, 40.0, 15.0, 60.0, 120.0, 120.0, 60.0, 40.0, 60.0, 60.0, 30.0, 30.0, 30.0, 30.0, 40.0, 30.0, 30.0, 30.0, 30.0, 30.0, 30.0, 30.0, 30.0, 20.0, 45.0, 90.0, 60.0, 30.0, 90.0, 30.0, 60.0, 80.0, 60.0, 60.0, 60.0, 50.0, 60.0, 60.0, 40.0, 60.0, 60.0, 20.0, 60.0, 60.0, 40.0, 70.0, 70.0, 60.02, 60.0, 25.0, 45.0, 40.0]\n",
      "101\n",
      "对照组问诊时间：44.20811881188119 +- 25.051879979764735\n",
      "[35.0, 0.0, 0.0, 0.0, 10.0, 50.0, 15.0, 19.96, 15.0, 60.0, 43.0, 49.0, 40.0, 60.0, 20.0, 30.0, 20.0, 50.0, 50.0, 50.0, 45.0, 40.0, 30.0, 75.0, 45.0, 60.0, 45.0, 30.0, 30.0, 15.0, 40.0, 40.0, 30.0, 40.0, 30.0, 60.0, 90.0, 90.0, 20.0, 40.0, 20.0, 30.0, 30.0, 30.0, 30.0, 100.0, 30.0, 30.0, 30.0, 40.0, 90.0, 59.97, 30.0, 40.0, 40.0, 50.0, 50.0, 50.0, 90.0, 40.0, 60.0, 45.0, 45.0, 50.0, 60.0, 60.0, 60.0, 30.0, 100.0, 60.0, 60.0, 60.0, 60.0, 120.0, 30.0, 40.0, 60.0, 60.0, 30.0, 30.0, 30.0, 70.0, 70.0, 70.0, 30.0, 30.0, 40.0, 60.0, 80.0, 50.0, 70.0, 30.0, 60.0, 45.0, 45.0, 50.0, 5.5, 5.9, 90.0, 11.0, 15.0, 14.0, 34.0, 11.0]\n",
      "104\n",
      "实验组问诊时间：43.830096153846156 +- 23.25378800801116\n",
      "Mann-Whitney U 检验: U=5068.00, p-value=0.6616\n"
     ]
    },
    {
     "data": {
      "application/vnd.plotly.v1+json": {
       "config": {
        "plotlyServerURL": "https://plot.ly"
       },
       "data": [
        {
         "alignmentgroup": "True",
         "hovertemplate": "Group=Control<br>Clinical Task Metric=%{x}<br>Score=%{y}<extra></extra>",
         "legendgroup": "Control",
         "marker": {
          "color": "#636efa"
         },
         "name": "Control",
         "notched": false,
         "offsetgroup": "Control",
         "orientation": "v",
         "showlegend": true,
         "type": "box",
         "x": [
          "问诊时间",
          "问诊时间",
          "问诊时间",
          "问诊时间",
          "问诊时间",
          "问诊时间",
          "问诊时间",
          "问诊时间",
          "问诊时间",
          "问诊时间",
          "问诊时间",
          "问诊时间",
          "问诊时间",
          "问诊时间",
          "问诊时间",
          "问诊时间",
          "问诊时间",
          "问诊时间",
          "问诊时间",
          "问诊时间",
          "问诊时间",
          "问诊时间",
          "问诊时间",
          "问诊时间",
          "问诊时间",
          "问诊时间",
          "问诊时间",
          "问诊时间",
          "问诊时间",
          "问诊时间",
          "问诊时间",
          "问诊时间",
          "问诊时间",
          "问诊时间",
          "问诊时间",
          "问诊时间",
          "问诊时间",
          "问诊时间",
          "问诊时间",
          "问诊时间",
          "问诊时间",
          "问诊时间",
          "问诊时间",
          "问诊时间",
          "问诊时间",
          "问诊时间",
          "问诊时间",
          "问诊时间",
          "问诊时间",
          "问诊时间",
          "问诊时间",
          "问诊时间",
          "问诊时间",
          "问诊时间",
          "问诊时间",
          "问诊时间",
          "问诊时间",
          "问诊时间",
          "问诊时间",
          "问诊时间",
          "问诊时间",
          "问诊时间",
          "问诊时间",
          "问诊时间",
          "问诊时间",
          "问诊时间",
          "问诊时间",
          "问诊时间",
          "问诊时间",
          "问诊时间",
          "问诊时间",
          "问诊时间",
          "问诊时间",
          "问诊时间",
          "问诊时间",
          "问诊时间",
          "问诊时间",
          "问诊时间",
          "问诊时间",
          "问诊时间",
          "问诊时间",
          "问诊时间",
          "问诊时间",
          "问诊时间",
          "问诊时间",
          "问诊时间",
          "问诊时间",
          "问诊时间",
          "问诊时间",
          "问诊时间",
          "问诊时间",
          "问诊时间",
          "问诊时间",
          "问诊时间",
          "问诊时间",
          "问诊时间",
          "问诊时间",
          "问诊时间",
          "问诊时间",
          "问诊时间",
          "问诊时间"
         ],
         "x0": " ",
         "xaxis": "x",
         "y": [
          10,
          120,
          20,
          20,
          30,
          5,
          20,
          20,
          60,
          30,
          30,
          10,
          10,
          30,
          30,
          30,
          30,
          20,
          30,
          40,
          40,
          60,
          30,
          10,
          60,
          30,
          40,
          40,
          40,
          50,
          20,
          20,
          30,
          60,
          30,
          30,
          30,
          10,
          40,
          120,
          30,
          60,
          40,
          30,
          90,
          45,
          40,
          40,
          120,
          45,
          40,
          15,
          60,
          120,
          120,
          60,
          40,
          60,
          60,
          30,
          30,
          30,
          30,
          40,
          30,
          30,
          30,
          30,
          30,
          30,
          30,
          30,
          20,
          45,
          90,
          60,
          30,
          90,
          30,
          60,
          80,
          60,
          60,
          60,
          50,
          60,
          60,
          40,
          60,
          60,
          20,
          60,
          60,
          40,
          70,
          70,
          60.02,
          60,
          25,
          45,
          40
         ],
         "y0": " ",
         "yaxis": "y"
        },
        {
         "alignmentgroup": "True",
         "hovertemplate": "Group=Experimental<br>Clinical Task Metric=%{x}<br>Score=%{y}<extra></extra>",
         "legendgroup": "Experimental",
         "marker": {
          "color": "#EF553B"
         },
         "name": "Experimental",
         "notched": false,
         "offsetgroup": "Experimental",
         "orientation": "v",
         "showlegend": true,
         "type": "box",
         "x": [
          "问诊时间",
          "问诊时间",
          "问诊时间",
          "问诊时间",
          "问诊时间",
          "问诊时间",
          "问诊时间",
          "问诊时间",
          "问诊时间",
          "问诊时间",
          "问诊时间",
          "问诊时间",
          "问诊时间",
          "问诊时间",
          "问诊时间",
          "问诊时间",
          "问诊时间",
          "问诊时间",
          "问诊时间",
          "问诊时间",
          "问诊时间",
          "问诊时间",
          "问诊时间",
          "问诊时间",
          "问诊时间",
          "问诊时间",
          "问诊时间",
          "问诊时间",
          "问诊时间",
          "问诊时间",
          "问诊时间",
          "问诊时间",
          "问诊时间",
          "问诊时间",
          "问诊时间",
          "问诊时间",
          "问诊时间",
          "问诊时间",
          "问诊时间",
          "问诊时间",
          "问诊时间",
          "问诊时间",
          "问诊时间",
          "问诊时间",
          "问诊时间",
          "问诊时间",
          "问诊时间",
          "问诊时间",
          "问诊时间",
          "问诊时间",
          "问诊时间",
          "问诊时间",
          "问诊时间",
          "问诊时间",
          "问诊时间",
          "问诊时间",
          "问诊时间",
          "问诊时间",
          "问诊时间",
          "问诊时间",
          "问诊时间",
          "问诊时间",
          "问诊时间",
          "问诊时间",
          "问诊时间",
          "问诊时间",
          "问诊时间",
          "问诊时间",
          "问诊时间",
          "问诊时间",
          "问诊时间",
          "问诊时间",
          "问诊时间",
          "问诊时间",
          "问诊时间",
          "问诊时间",
          "问诊时间",
          "问诊时间",
          "问诊时间",
          "问诊时间",
          "问诊时间",
          "问诊时间",
          "问诊时间",
          "问诊时间",
          "问诊时间",
          "问诊时间",
          "问诊时间",
          "问诊时间",
          "问诊时间",
          "问诊时间",
          "问诊时间",
          "问诊时间",
          "问诊时间",
          "问诊时间",
          "问诊时间",
          "问诊时间",
          "问诊时间",
          "问诊时间",
          "问诊时间",
          "问诊时间",
          "问诊时间",
          "问诊时间",
          "问诊时间",
          "问诊时间"
         ],
         "x0": " ",
         "xaxis": "x",
         "y": [
          35,
          0,
          0,
          0,
          10,
          50,
          15,
          19.96,
          15,
          60,
          43,
          49,
          40,
          60,
          20,
          30,
          20,
          50,
          50,
          50,
          45,
          40,
          30,
          75,
          45,
          60,
          45,
          30,
          30,
          15,
          40,
          40,
          30,
          40,
          30,
          60,
          90,
          90,
          20,
          40,
          20,
          30,
          30,
          30,
          30,
          100,
          30,
          30,
          30,
          40,
          90,
          59.97,
          30,
          40,
          40,
          50,
          50,
          50,
          90,
          40,
          60,
          45,
          45,
          50,
          60,
          60,
          60,
          30,
          100,
          60,
          60,
          60,
          60,
          120,
          30,
          40,
          60,
          60,
          30,
          30,
          30,
          70,
          70,
          70,
          30,
          30,
          40,
          60,
          80,
          50,
          70,
          30,
          60,
          45,
          45,
          50,
          5.5,
          5.9,
          90,
          11,
          15,
          14,
          34,
          11
         ],
         "y0": " ",
         "yaxis": "y"
        }
       ],
       "layout": {
        "annotations": [
         {
          "font": {
           "color": "black",
           "size": 14
          },
          "showarrow": false,
          "text": "p=0.6616 ns",
          "x": 0,
          "y": 120,
          "yshift": 20
         }
        ],
        "boxmode": "group",
        "font": {
         "family": "Arial, sans-serif",
         "size": 12
        },
        "height": 400,
        "legend": {
         "title": {
          "font": {
           "size": 14
          },
          "text": "Group"
         },
         "tracegroupgap": 0
        },
        "margin": {
         "t": 60
        },
        "plot_bgcolor": "white",
        "showlegend": true,
        "template": {
         "data": {
          "bar": [
           {
            "error_x": {
             "color": "#2a3f5f"
            },
            "error_y": {
             "color": "#2a3f5f"
            },
            "marker": {
             "line": {
              "color": "#E5ECF6",
              "width": 0.5
             },
             "pattern": {
              "fillmode": "overlay",
              "size": 10,
              "solidity": 0.2
             }
            },
            "type": "bar"
           }
          ],
          "barpolar": [
           {
            "marker": {
             "line": {
              "color": "#E5ECF6",
              "width": 0.5
             },
             "pattern": {
              "fillmode": "overlay",
              "size": 10,
              "solidity": 0.2
             }
            },
            "type": "barpolar"
           }
          ],
          "carpet": [
           {
            "aaxis": {
             "endlinecolor": "#2a3f5f",
             "gridcolor": "white",
             "linecolor": "white",
             "minorgridcolor": "white",
             "startlinecolor": "#2a3f5f"
            },
            "baxis": {
             "endlinecolor": "#2a3f5f",
             "gridcolor": "white",
             "linecolor": "white",
             "minorgridcolor": "white",
             "startlinecolor": "#2a3f5f"
            },
            "type": "carpet"
           }
          ],
          "choropleth": [
           {
            "colorbar": {
             "outlinewidth": 0,
             "ticks": ""
            },
            "type": "choropleth"
           }
          ],
          "contour": [
           {
            "colorbar": {
             "outlinewidth": 0,
             "ticks": ""
            },
            "colorscale": [
             [
              0,
              "#0d0887"
             ],
             [
              0.1111111111111111,
              "#46039f"
             ],
             [
              0.2222222222222222,
              "#7201a8"
             ],
             [
              0.3333333333333333,
              "#9c179e"
             ],
             [
              0.4444444444444444,
              "#bd3786"
             ],
             [
              0.5555555555555556,
              "#d8576b"
             ],
             [
              0.6666666666666666,
              "#ed7953"
             ],
             [
              0.7777777777777778,
              "#fb9f3a"
             ],
             [
              0.8888888888888888,
              "#fdca26"
             ],
             [
              1,
              "#f0f921"
             ]
            ],
            "type": "contour"
           }
          ],
          "contourcarpet": [
           {
            "colorbar": {
             "outlinewidth": 0,
             "ticks": ""
            },
            "type": "contourcarpet"
           }
          ],
          "heatmap": [
           {
            "colorbar": {
             "outlinewidth": 0,
             "ticks": ""
            },
            "colorscale": [
             [
              0,
              "#0d0887"
             ],
             [
              0.1111111111111111,
              "#46039f"
             ],
             [
              0.2222222222222222,
              "#7201a8"
             ],
             [
              0.3333333333333333,
              "#9c179e"
             ],
             [
              0.4444444444444444,
              "#bd3786"
             ],
             [
              0.5555555555555556,
              "#d8576b"
             ],
             [
              0.6666666666666666,
              "#ed7953"
             ],
             [
              0.7777777777777778,
              "#fb9f3a"
             ],
             [
              0.8888888888888888,
              "#fdca26"
             ],
             [
              1,
              "#f0f921"
             ]
            ],
            "type": "heatmap"
           }
          ],
          "heatmapgl": [
           {
            "colorbar": {
             "outlinewidth": 0,
             "ticks": ""
            },
            "colorscale": [
             [
              0,
              "#0d0887"
             ],
             [
              0.1111111111111111,
              "#46039f"
             ],
             [
              0.2222222222222222,
              "#7201a8"
             ],
             [
              0.3333333333333333,
              "#9c179e"
             ],
             [
              0.4444444444444444,
              "#bd3786"
             ],
             [
              0.5555555555555556,
              "#d8576b"
             ],
             [
              0.6666666666666666,
              "#ed7953"
             ],
             [
              0.7777777777777778,
              "#fb9f3a"
             ],
             [
              0.8888888888888888,
              "#fdca26"
             ],
             [
              1,
              "#f0f921"
             ]
            ],
            "type": "heatmapgl"
           }
          ],
          "histogram": [
           {
            "marker": {
             "pattern": {
              "fillmode": "overlay",
              "size": 10,
              "solidity": 0.2
             }
            },
            "type": "histogram"
           }
          ],
          "histogram2d": [
           {
            "colorbar": {
             "outlinewidth": 0,
             "ticks": ""
            },
            "colorscale": [
             [
              0,
              "#0d0887"
             ],
             [
              0.1111111111111111,
              "#46039f"
             ],
             [
              0.2222222222222222,
              "#7201a8"
             ],
             [
              0.3333333333333333,
              "#9c179e"
             ],
             [
              0.4444444444444444,
              "#bd3786"
             ],
             [
              0.5555555555555556,
              "#d8576b"
             ],
             [
              0.6666666666666666,
              "#ed7953"
             ],
             [
              0.7777777777777778,
              "#fb9f3a"
             ],
             [
              0.8888888888888888,
              "#fdca26"
             ],
             [
              1,
              "#f0f921"
             ]
            ],
            "type": "histogram2d"
           }
          ],
          "histogram2dcontour": [
           {
            "colorbar": {
             "outlinewidth": 0,
             "ticks": ""
            },
            "colorscale": [
             [
              0,
              "#0d0887"
             ],
             [
              0.1111111111111111,
              "#46039f"
             ],
             [
              0.2222222222222222,
              "#7201a8"
             ],
             [
              0.3333333333333333,
              "#9c179e"
             ],
             [
              0.4444444444444444,
              "#bd3786"
             ],
             [
              0.5555555555555556,
              "#d8576b"
             ],
             [
              0.6666666666666666,
              "#ed7953"
             ],
             [
              0.7777777777777778,
              "#fb9f3a"
             ],
             [
              0.8888888888888888,
              "#fdca26"
             ],
             [
              1,
              "#f0f921"
             ]
            ],
            "type": "histogram2dcontour"
           }
          ],
          "mesh3d": [
           {
            "colorbar": {
             "outlinewidth": 0,
             "ticks": ""
            },
            "type": "mesh3d"
           }
          ],
          "parcoords": [
           {
            "line": {
             "colorbar": {
              "outlinewidth": 0,
              "ticks": ""
             }
            },
            "type": "parcoords"
           }
          ],
          "pie": [
           {
            "automargin": true,
            "type": "pie"
           }
          ],
          "scatter": [
           {
            "fillpattern": {
             "fillmode": "overlay",
             "size": 10,
             "solidity": 0.2
            },
            "type": "scatter"
           }
          ],
          "scatter3d": [
           {
            "line": {
             "colorbar": {
              "outlinewidth": 0,
              "ticks": ""
             }
            },
            "marker": {
             "colorbar": {
              "outlinewidth": 0,
              "ticks": ""
             }
            },
            "type": "scatter3d"
           }
          ],
          "scattercarpet": [
           {
            "marker": {
             "colorbar": {
              "outlinewidth": 0,
              "ticks": ""
             }
            },
            "type": "scattercarpet"
           }
          ],
          "scattergeo": [
           {
            "marker": {
             "colorbar": {
              "outlinewidth": 0,
              "ticks": ""
             }
            },
            "type": "scattergeo"
           }
          ],
          "scattergl": [
           {
            "marker": {
             "colorbar": {
              "outlinewidth": 0,
              "ticks": ""
             }
            },
            "type": "scattergl"
           }
          ],
          "scattermapbox": [
           {
            "marker": {
             "colorbar": {
              "outlinewidth": 0,
              "ticks": ""
             }
            },
            "type": "scattermapbox"
           }
          ],
          "scatterpolar": [
           {
            "marker": {
             "colorbar": {
              "outlinewidth": 0,
              "ticks": ""
             }
            },
            "type": "scatterpolar"
           }
          ],
          "scatterpolargl": [
           {
            "marker": {
             "colorbar": {
              "outlinewidth": 0,
              "ticks": ""
             }
            },
            "type": "scatterpolargl"
           }
          ],
          "scatterternary": [
           {
            "marker": {
             "colorbar": {
              "outlinewidth": 0,
              "ticks": ""
             }
            },
            "type": "scatterternary"
           }
          ],
          "surface": [
           {
            "colorbar": {
             "outlinewidth": 0,
             "ticks": ""
            },
            "colorscale": [
             [
              0,
              "#0d0887"
             ],
             [
              0.1111111111111111,
              "#46039f"
             ],
             [
              0.2222222222222222,
              "#7201a8"
             ],
             [
              0.3333333333333333,
              "#9c179e"
             ],
             [
              0.4444444444444444,
              "#bd3786"
             ],
             [
              0.5555555555555556,
              "#d8576b"
             ],
             [
              0.6666666666666666,
              "#ed7953"
             ],
             [
              0.7777777777777778,
              "#fb9f3a"
             ],
             [
              0.8888888888888888,
              "#fdca26"
             ],
             [
              1,
              "#f0f921"
             ]
            ],
            "type": "surface"
           }
          ],
          "table": [
           {
            "cells": {
             "fill": {
              "color": "#EBF0F8"
             },
             "line": {
              "color": "white"
             }
            },
            "header": {
             "fill": {
              "color": "#C8D4E3"
             },
             "line": {
              "color": "white"
             }
            },
            "type": "table"
           }
          ]
         },
         "layout": {
          "annotationdefaults": {
           "arrowcolor": "#2a3f5f",
           "arrowhead": 0,
           "arrowwidth": 1
          },
          "autotypenumbers": "strict",
          "coloraxis": {
           "colorbar": {
            "outlinewidth": 0,
            "ticks": ""
           }
          },
          "colorscale": {
           "diverging": [
            [
             0,
             "#8e0152"
            ],
            [
             0.1,
             "#c51b7d"
            ],
            [
             0.2,
             "#de77ae"
            ],
            [
             0.3,
             "#f1b6da"
            ],
            [
             0.4,
             "#fde0ef"
            ],
            [
             0.5,
             "#f7f7f7"
            ],
            [
             0.6,
             "#e6f5d0"
            ],
            [
             0.7,
             "#b8e186"
            ],
            [
             0.8,
             "#7fbc41"
            ],
            [
             0.9,
             "#4d9221"
            ],
            [
             1,
             "#276419"
            ]
           ],
           "sequential": [
            [
             0,
             "#0d0887"
            ],
            [
             0.1111111111111111,
             "#46039f"
            ],
            [
             0.2222222222222222,
             "#7201a8"
            ],
            [
             0.3333333333333333,
             "#9c179e"
            ],
            [
             0.4444444444444444,
             "#bd3786"
            ],
            [
             0.5555555555555556,
             "#d8576b"
            ],
            [
             0.6666666666666666,
             "#ed7953"
            ],
            [
             0.7777777777777778,
             "#fb9f3a"
            ],
            [
             0.8888888888888888,
             "#fdca26"
            ],
            [
             1,
             "#f0f921"
            ]
           ],
           "sequentialminus": [
            [
             0,
             "#0d0887"
            ],
            [
             0.1111111111111111,
             "#46039f"
            ],
            [
             0.2222222222222222,
             "#7201a8"
            ],
            [
             0.3333333333333333,
             "#9c179e"
            ],
            [
             0.4444444444444444,
             "#bd3786"
            ],
            [
             0.5555555555555556,
             "#d8576b"
            ],
            [
             0.6666666666666666,
             "#ed7953"
            ],
            [
             0.7777777777777778,
             "#fb9f3a"
            ],
            [
             0.8888888888888888,
             "#fdca26"
            ],
            [
             1,
             "#f0f921"
            ]
           ]
          },
          "colorway": [
           "#636efa",
           "#EF553B",
           "#00cc96",
           "#ab63fa",
           "#FFA15A",
           "#19d3f3",
           "#FF6692",
           "#B6E880",
           "#FF97FF",
           "#FECB52"
          ],
          "font": {
           "color": "#2a3f5f"
          },
          "geo": {
           "bgcolor": "white",
           "lakecolor": "white",
           "landcolor": "#E5ECF6",
           "showlakes": true,
           "showland": true,
           "subunitcolor": "white"
          },
          "hoverlabel": {
           "align": "left"
          },
          "hovermode": "closest",
          "mapbox": {
           "style": "light"
          },
          "paper_bgcolor": "white",
          "plot_bgcolor": "#E5ECF6",
          "polar": {
           "angularaxis": {
            "gridcolor": "white",
            "linecolor": "white",
            "ticks": ""
           },
           "bgcolor": "#E5ECF6",
           "radialaxis": {
            "gridcolor": "white",
            "linecolor": "white",
            "ticks": ""
           }
          },
          "scene": {
           "xaxis": {
            "backgroundcolor": "#E5ECF6",
            "gridcolor": "white",
            "gridwidth": 2,
            "linecolor": "white",
            "showbackground": true,
            "ticks": "",
            "zerolinecolor": "white"
           },
           "yaxis": {
            "backgroundcolor": "#E5ECF6",
            "gridcolor": "white",
            "gridwidth": 2,
            "linecolor": "white",
            "showbackground": true,
            "ticks": "",
            "zerolinecolor": "white"
           },
           "zaxis": {
            "backgroundcolor": "#E5ECF6",
            "gridcolor": "white",
            "gridwidth": 2,
            "linecolor": "white",
            "showbackground": true,
            "ticks": "",
            "zerolinecolor": "white"
           }
          },
          "shapedefaults": {
           "line": {
            "color": "#2a3f5f"
           }
          },
          "ternary": {
           "aaxis": {
            "gridcolor": "white",
            "linecolor": "white",
            "ticks": ""
           },
           "baxis": {
            "gridcolor": "white",
            "linecolor": "white",
            "ticks": ""
           },
           "bgcolor": "#E5ECF6",
           "caxis": {
            "gridcolor": "white",
            "linecolor": "white",
            "ticks": ""
           }
          },
          "title": {
           "x": 0.05
          },
          "xaxis": {
           "automargin": true,
           "gridcolor": "white",
           "linecolor": "white",
           "ticks": "",
           "title": {
            "standoff": 15
           },
           "zerolinecolor": "white",
           "zerolinewidth": 2
          },
          "yaxis": {
           "automargin": true,
           "gridcolor": "white",
           "linecolor": "white",
           "ticks": "",
           "title": {
            "standoff": 15
           },
           "zerolinecolor": "white",
           "zerolinewidth": 2
          }
         }
        },
        "title": {
         "font": {
          "family": "Arial, sans-serif",
          "size": 20
         }
        },
        "width": 500,
        "xaxis": {
         "anchor": "y",
         "categoryarray": [
          "问诊时间"
         ],
         "categoryorder": "array",
         "domain": [
          0,
          1
         ],
         "title": {
          "font": {
           "family": "Arial, sans-serif",
           "size": 14
          },
          "text": "Clinical Task Metric"
         }
        },
        "yaxis": {
         "anchor": "x",
         "domain": [
          0,
          1
         ],
         "title": {
          "font": {
           "family": "Arial, sans-serif",
           "size": 14
          },
          "text": "Score"
         }
        }
       }
      }
     },
     "metadata": {},
     "output_type": "display_data"
    },
    {
     "name": "stdout",
     "output_type": "stream",
     "text": [
      "==================================================\n"
     ]
    }
   ],
   "source": [
    "# 1 问诊时间\n",
    "print(\"=\"*25+\"问诊时间\"+\"=\"*25)\n",
    "dzz_records = pd.read_excel(r'D:\\work\\code\\psychgpt\\prospective\\CRF\\dzz.xlsx')\n",
    "syz_records = pd.read_excel(r'D:\\work\\code\\psychgpt\\prospective\\CRF\\syz.xlsx')\n",
    "\n",
    "interview_time_dzz = dzz_records['Interview_time'].tolist() # minute\n",
    "print(interview_time_dzz)\n",
    "print(len(interview_time_dzz))\n",
    "print(f\"对照组问诊时间：{np.mean(interview_time_dzz)} +- {np.std(interview_time_dzz)}\")\n",
    "\n",
    "interview_time_syz = syz_records['Interview_time'].tolist() # minute\n",
    "print(interview_time_syz)\n",
    "print(len(interview_time_syz))\n",
    "print(f\"实验组问诊时间：{np.mean(interview_time_syz)} +- {np.std(interview_time_syz)}\")\n",
    "\n",
    "draw_boxplot(\"问诊时间\", interview_time_dzz, interview_time_syz)\n",
    "\n",
    "print(\"=\"*50)"
   ]
  },
  {
   "cell_type": "code",
   "execution_count": 83,
   "id": "3d266ec4",
   "metadata": {},
   "outputs": [
    {
     "name": "stdout",
     "output_type": "stream",
     "text": [
      "=========================病历撰写时间=========================\n",
      "[10.0, 10.0, 20.0, 10.0, 15.0, 10.0, 10.0, 15.0, 10.0, 10.0, 20.0, 10.0, 18.0, 10.0, 10.0, 12.0, 13.0, 15.0, 15.0, 15.0, 15.0, 25.0, 15.0, 15.0, 15.0, 15.0, 15.0, 15.0, 25.0, 15.0, 15.0, 15.0, 15.0, 15.0, 25.0, 15.0, 15.0, 16.0, 19.0, 20.0, 20.0, 20.0, 25.0, 20.0, 20.0, 20.0, 20.0, 20.0, 20.0, 20.0, 20.0, 20.0, 20.0, 20.0, 20.0, 20.0, 20.0, 20.0, 20.0, 20.0, 20.0, 20.0, 20.0, 20.0, 20.0, 20.0, 20.0, 20.0, 20.0, 20.0, 25.0, 25.0, 25.0, 30.0, 30.0, 30.0, 30.0, 30.0, 30.0, 30.0, 30.0, 30.0, 30.0, 30.0, 30.0, 30.0, 30.0, 30.0, 30.0, 30.0, 30.0, 30.0, 30.0, 30.0, 30.04, 30.04, 40.0, 40.0, 42.0, 45.0, 8.0]\n",
      "101\n",
      "对照组病历撰写时间：21.21861386138614 +- 7.700209721935375\n",
      "[5.0, 5.0, 5.0, 5.0, 5.0, 5.0, 5.0, 5.0, 5.0, 5.0, 5.0, 5.0, 5.0, 5.0, 5.0, 5.0, 5.0, 5.0, 5.0, 10.0, 10.0, 10.0, 10.0, 10.0, 10.0, 10.0, 10.0, 10.0, 10.0, 10.0, 10.0, 10.0, 10.0, 10.0, 10.02, 13.0, 14.97, 15.0, 15.0, 10.0, 15.0, 5.0, 15.0, 15.0, 15.0, 15.0, 10.0, 15.0, 15.0, 10.0, 15.0, 15.0, 15.0, 15.0, 15.0, 10.0, 15.0, 15.0, 20.0, 20.0, 15.0, 25.0, 25.0, 25.0, 25.0, 25.0, 25.0, 25.0, 25.0, 25.0, 25.0, 25.0, 15.0, 25.0, 25.0, 25.0, 25.0, 25.0, 15.0, 25.0, 25.0, 15.0, 25.0, 25.0, 25.0, 25.0, 20.0, 25.01, 35.0, 35.0, 5.0, 5.0, 8.0, 5.0, 5.0, 3.0, 5.0, 5.0, 5.0, 7.0, 7.0, 7.0, 8.0, 8.0]\n",
      "104\n",
      "实验组病历撰写时间：13.615384615384615 +- 8.003975445301796\n",
      "Mann-Whitney U 检验: U=7930.00, p-value=0.0000\n"
     ]
    },
    {
     "data": {
      "application/vnd.plotly.v1+json": {
       "config": {
        "plotlyServerURL": "https://plot.ly"
       },
       "data": [
        {
         "alignmentgroup": "True",
         "hovertemplate": "Group=Control<br>Clinical Task Metric=%{x}<br>Score=%{y}<extra></extra>",
         "legendgroup": "Control",
         "marker": {
          "color": "#636efa"
         },
         "name": "Control",
         "notched": false,
         "offsetgroup": "Control",
         "orientation": "v",
         "showlegend": true,
         "type": "box",
         "x": [
          "病历撰写时间",
          "病历撰写时间",
          "病历撰写时间",
          "病历撰写时间",
          "病历撰写时间",
          "病历撰写时间",
          "病历撰写时间",
          "病历撰写时间",
          "病历撰写时间",
          "病历撰写时间",
          "病历撰写时间",
          "病历撰写时间",
          "病历撰写时间",
          "病历撰写时间",
          "病历撰写时间",
          "病历撰写时间",
          "病历撰写时间",
          "病历撰写时间",
          "病历撰写时间",
          "病历撰写时间",
          "病历撰写时间",
          "病历撰写时间",
          "病历撰写时间",
          "病历撰写时间",
          "病历撰写时间",
          "病历撰写时间",
          "病历撰写时间",
          "病历撰写时间",
          "病历撰写时间",
          "病历撰写时间",
          "病历撰写时间",
          "病历撰写时间",
          "病历撰写时间",
          "病历撰写时间",
          "病历撰写时间",
          "病历撰写时间",
          "病历撰写时间",
          "病历撰写时间",
          "病历撰写时间",
          "病历撰写时间",
          "病历撰写时间",
          "病历撰写时间",
          "病历撰写时间",
          "病历撰写时间",
          "病历撰写时间",
          "病历撰写时间",
          "病历撰写时间",
          "病历撰写时间",
          "病历撰写时间",
          "病历撰写时间",
          "病历撰写时间",
          "病历撰写时间",
          "病历撰写时间",
          "病历撰写时间",
          "病历撰写时间",
          "病历撰写时间",
          "病历撰写时间",
          "病历撰写时间",
          "病历撰写时间",
          "病历撰写时间",
          "病历撰写时间",
          "病历撰写时间",
          "病历撰写时间",
          "病历撰写时间",
          "病历撰写时间",
          "病历撰写时间",
          "病历撰写时间",
          "病历撰写时间",
          "病历撰写时间",
          "病历撰写时间",
          "病历撰写时间",
          "病历撰写时间",
          "病历撰写时间",
          "病历撰写时间",
          "病历撰写时间",
          "病历撰写时间",
          "病历撰写时间",
          "病历撰写时间",
          "病历撰写时间",
          "病历撰写时间",
          "病历撰写时间",
          "病历撰写时间",
          "病历撰写时间",
          "病历撰写时间",
          "病历撰写时间",
          "病历撰写时间",
          "病历撰写时间",
          "病历撰写时间",
          "病历撰写时间",
          "病历撰写时间",
          "病历撰写时间",
          "病历撰写时间",
          "病历撰写时间",
          "病历撰写时间",
          "病历撰写时间",
          "病历撰写时间",
          "病历撰写时间",
          "病历撰写时间",
          "病历撰写时间",
          "病历撰写时间",
          "病历撰写时间"
         ],
         "x0": " ",
         "xaxis": "x",
         "y": [
          10,
          10,
          20,
          10,
          15,
          10,
          10,
          15,
          10,
          10,
          20,
          10,
          18,
          10,
          10,
          12,
          13,
          15,
          15,
          15,
          15,
          25,
          15,
          15,
          15,
          15,
          15,
          15,
          25,
          15,
          15,
          15,
          15,
          15,
          25,
          15,
          15,
          16,
          19,
          20,
          20,
          20,
          25,
          20,
          20,
          20,
          20,
          20,
          20,
          20,
          20,
          20,
          20,
          20,
          20,
          20,
          20,
          20,
          20,
          20,
          20,
          20,
          20,
          20,
          20,
          20,
          20,
          20,
          20,
          20,
          25,
          25,
          25,
          30,
          30,
          30,
          30,
          30,
          30,
          30,
          30,
          30,
          30,
          30,
          30,
          30,
          30,
          30,
          30,
          30,
          30,
          30,
          30,
          30,
          30.04,
          30.04,
          40,
          40,
          42,
          45,
          8
         ],
         "y0": " ",
         "yaxis": "y"
        },
        {
         "alignmentgroup": "True",
         "hovertemplate": "Group=Experimental<br>Clinical Task Metric=%{x}<br>Score=%{y}<extra></extra>",
         "legendgroup": "Experimental",
         "marker": {
          "color": "#EF553B"
         },
         "name": "Experimental",
         "notched": false,
         "offsetgroup": "Experimental",
         "orientation": "v",
         "showlegend": true,
         "type": "box",
         "x": [
          "病历撰写时间",
          "病历撰写时间",
          "病历撰写时间",
          "病历撰写时间",
          "病历撰写时间",
          "病历撰写时间",
          "病历撰写时间",
          "病历撰写时间",
          "病历撰写时间",
          "病历撰写时间",
          "病历撰写时间",
          "病历撰写时间",
          "病历撰写时间",
          "病历撰写时间",
          "病历撰写时间",
          "病历撰写时间",
          "病历撰写时间",
          "病历撰写时间",
          "病历撰写时间",
          "病历撰写时间",
          "病历撰写时间",
          "病历撰写时间",
          "病历撰写时间",
          "病历撰写时间",
          "病历撰写时间",
          "病历撰写时间",
          "病历撰写时间",
          "病历撰写时间",
          "病历撰写时间",
          "病历撰写时间",
          "病历撰写时间",
          "病历撰写时间",
          "病历撰写时间",
          "病历撰写时间",
          "病历撰写时间",
          "病历撰写时间",
          "病历撰写时间",
          "病历撰写时间",
          "病历撰写时间",
          "病历撰写时间",
          "病历撰写时间",
          "病历撰写时间",
          "病历撰写时间",
          "病历撰写时间",
          "病历撰写时间",
          "病历撰写时间",
          "病历撰写时间",
          "病历撰写时间",
          "病历撰写时间",
          "病历撰写时间",
          "病历撰写时间",
          "病历撰写时间",
          "病历撰写时间",
          "病历撰写时间",
          "病历撰写时间",
          "病历撰写时间",
          "病历撰写时间",
          "病历撰写时间",
          "病历撰写时间",
          "病历撰写时间",
          "病历撰写时间",
          "病历撰写时间",
          "病历撰写时间",
          "病历撰写时间",
          "病历撰写时间",
          "病历撰写时间",
          "病历撰写时间",
          "病历撰写时间",
          "病历撰写时间",
          "病历撰写时间",
          "病历撰写时间",
          "病历撰写时间",
          "病历撰写时间",
          "病历撰写时间",
          "病历撰写时间",
          "病历撰写时间",
          "病历撰写时间",
          "病历撰写时间",
          "病历撰写时间",
          "病历撰写时间",
          "病历撰写时间",
          "病历撰写时间",
          "病历撰写时间",
          "病历撰写时间",
          "病历撰写时间",
          "病历撰写时间",
          "病历撰写时间",
          "病历撰写时间",
          "病历撰写时间",
          "病历撰写时间",
          "病历撰写时间",
          "病历撰写时间",
          "病历撰写时间",
          "病历撰写时间",
          "病历撰写时间",
          "病历撰写时间",
          "病历撰写时间",
          "病历撰写时间",
          "病历撰写时间",
          "病历撰写时间",
          "病历撰写时间",
          "病历撰写时间",
          "病历撰写时间",
          "病历撰写时间"
         ],
         "x0": " ",
         "xaxis": "x",
         "y": [
          5,
          5,
          5,
          5,
          5,
          5,
          5,
          5,
          5,
          5,
          5,
          5,
          5,
          5,
          5,
          5,
          5,
          5,
          5,
          10,
          10,
          10,
          10,
          10,
          10,
          10,
          10,
          10,
          10,
          10,
          10,
          10,
          10,
          10,
          10.02,
          13,
          14.97,
          15,
          15,
          10,
          15,
          5,
          15,
          15,
          15,
          15,
          10,
          15,
          15,
          10,
          15,
          15,
          15,
          15,
          15,
          10,
          15,
          15,
          20,
          20,
          15,
          25,
          25,
          25,
          25,
          25,
          25,
          25,
          25,
          25,
          25,
          25,
          15,
          25,
          25,
          25,
          25,
          25,
          15,
          25,
          25,
          15,
          25,
          25,
          25,
          25,
          20,
          25.01,
          35,
          35,
          5,
          5,
          8,
          5,
          5,
          3,
          5,
          5,
          5,
          7,
          7,
          7,
          8,
          8
         ],
         "y0": " ",
         "yaxis": "y"
        }
       ],
       "layout": {
        "annotations": [
         {
          "font": {
           "color": "black",
           "size": 14
          },
          "showarrow": false,
          "text": "p=0.0000 *",
          "x": 0,
          "y": 45,
          "yshift": 20
         }
        ],
        "boxmode": "group",
        "font": {
         "family": "Arial, sans-serif",
         "size": 12
        },
        "height": 400,
        "legend": {
         "title": {
          "font": {
           "size": 14
          },
          "text": "Group"
         },
         "tracegroupgap": 0
        },
        "margin": {
         "t": 60
        },
        "plot_bgcolor": "white",
        "showlegend": true,
        "template": {
         "data": {
          "bar": [
           {
            "error_x": {
             "color": "#2a3f5f"
            },
            "error_y": {
             "color": "#2a3f5f"
            },
            "marker": {
             "line": {
              "color": "#E5ECF6",
              "width": 0.5
             },
             "pattern": {
              "fillmode": "overlay",
              "size": 10,
              "solidity": 0.2
             }
            },
            "type": "bar"
           }
          ],
          "barpolar": [
           {
            "marker": {
             "line": {
              "color": "#E5ECF6",
              "width": 0.5
             },
             "pattern": {
              "fillmode": "overlay",
              "size": 10,
              "solidity": 0.2
             }
            },
            "type": "barpolar"
           }
          ],
          "carpet": [
           {
            "aaxis": {
             "endlinecolor": "#2a3f5f",
             "gridcolor": "white",
             "linecolor": "white",
             "minorgridcolor": "white",
             "startlinecolor": "#2a3f5f"
            },
            "baxis": {
             "endlinecolor": "#2a3f5f",
             "gridcolor": "white",
             "linecolor": "white",
             "minorgridcolor": "white",
             "startlinecolor": "#2a3f5f"
            },
            "type": "carpet"
           }
          ],
          "choropleth": [
           {
            "colorbar": {
             "outlinewidth": 0,
             "ticks": ""
            },
            "type": "choropleth"
           }
          ],
          "contour": [
           {
            "colorbar": {
             "outlinewidth": 0,
             "ticks": ""
            },
            "colorscale": [
             [
              0,
              "#0d0887"
             ],
             [
              0.1111111111111111,
              "#46039f"
             ],
             [
              0.2222222222222222,
              "#7201a8"
             ],
             [
              0.3333333333333333,
              "#9c179e"
             ],
             [
              0.4444444444444444,
              "#bd3786"
             ],
             [
              0.5555555555555556,
              "#d8576b"
             ],
             [
              0.6666666666666666,
              "#ed7953"
             ],
             [
              0.7777777777777778,
              "#fb9f3a"
             ],
             [
              0.8888888888888888,
              "#fdca26"
             ],
             [
              1,
              "#f0f921"
             ]
            ],
            "type": "contour"
           }
          ],
          "contourcarpet": [
           {
            "colorbar": {
             "outlinewidth": 0,
             "ticks": ""
            },
            "type": "contourcarpet"
           }
          ],
          "heatmap": [
           {
            "colorbar": {
             "outlinewidth": 0,
             "ticks": ""
            },
            "colorscale": [
             [
              0,
              "#0d0887"
             ],
             [
              0.1111111111111111,
              "#46039f"
             ],
             [
              0.2222222222222222,
              "#7201a8"
             ],
             [
              0.3333333333333333,
              "#9c179e"
             ],
             [
              0.4444444444444444,
              "#bd3786"
             ],
             [
              0.5555555555555556,
              "#d8576b"
             ],
             [
              0.6666666666666666,
              "#ed7953"
             ],
             [
              0.7777777777777778,
              "#fb9f3a"
             ],
             [
              0.8888888888888888,
              "#fdca26"
             ],
             [
              1,
              "#f0f921"
             ]
            ],
            "type": "heatmap"
           }
          ],
          "heatmapgl": [
           {
            "colorbar": {
             "outlinewidth": 0,
             "ticks": ""
            },
            "colorscale": [
             [
              0,
              "#0d0887"
             ],
             [
              0.1111111111111111,
              "#46039f"
             ],
             [
              0.2222222222222222,
              "#7201a8"
             ],
             [
              0.3333333333333333,
              "#9c179e"
             ],
             [
              0.4444444444444444,
              "#bd3786"
             ],
             [
              0.5555555555555556,
              "#d8576b"
             ],
             [
              0.6666666666666666,
              "#ed7953"
             ],
             [
              0.7777777777777778,
              "#fb9f3a"
             ],
             [
              0.8888888888888888,
              "#fdca26"
             ],
             [
              1,
              "#f0f921"
             ]
            ],
            "type": "heatmapgl"
           }
          ],
          "histogram": [
           {
            "marker": {
             "pattern": {
              "fillmode": "overlay",
              "size": 10,
              "solidity": 0.2
             }
            },
            "type": "histogram"
           }
          ],
          "histogram2d": [
           {
            "colorbar": {
             "outlinewidth": 0,
             "ticks": ""
            },
            "colorscale": [
             [
              0,
              "#0d0887"
             ],
             [
              0.1111111111111111,
              "#46039f"
             ],
             [
              0.2222222222222222,
              "#7201a8"
             ],
             [
              0.3333333333333333,
              "#9c179e"
             ],
             [
              0.4444444444444444,
              "#bd3786"
             ],
             [
              0.5555555555555556,
              "#d8576b"
             ],
             [
              0.6666666666666666,
              "#ed7953"
             ],
             [
              0.7777777777777778,
              "#fb9f3a"
             ],
             [
              0.8888888888888888,
              "#fdca26"
             ],
             [
              1,
              "#f0f921"
             ]
            ],
            "type": "histogram2d"
           }
          ],
          "histogram2dcontour": [
           {
            "colorbar": {
             "outlinewidth": 0,
             "ticks": ""
            },
            "colorscale": [
             [
              0,
              "#0d0887"
             ],
             [
              0.1111111111111111,
              "#46039f"
             ],
             [
              0.2222222222222222,
              "#7201a8"
             ],
             [
              0.3333333333333333,
              "#9c179e"
             ],
             [
              0.4444444444444444,
              "#bd3786"
             ],
             [
              0.5555555555555556,
              "#d8576b"
             ],
             [
              0.6666666666666666,
              "#ed7953"
             ],
             [
              0.7777777777777778,
              "#fb9f3a"
             ],
             [
              0.8888888888888888,
              "#fdca26"
             ],
             [
              1,
              "#f0f921"
             ]
            ],
            "type": "histogram2dcontour"
           }
          ],
          "mesh3d": [
           {
            "colorbar": {
             "outlinewidth": 0,
             "ticks": ""
            },
            "type": "mesh3d"
           }
          ],
          "parcoords": [
           {
            "line": {
             "colorbar": {
              "outlinewidth": 0,
              "ticks": ""
             }
            },
            "type": "parcoords"
           }
          ],
          "pie": [
           {
            "automargin": true,
            "type": "pie"
           }
          ],
          "scatter": [
           {
            "fillpattern": {
             "fillmode": "overlay",
             "size": 10,
             "solidity": 0.2
            },
            "type": "scatter"
           }
          ],
          "scatter3d": [
           {
            "line": {
             "colorbar": {
              "outlinewidth": 0,
              "ticks": ""
             }
            },
            "marker": {
             "colorbar": {
              "outlinewidth": 0,
              "ticks": ""
             }
            },
            "type": "scatter3d"
           }
          ],
          "scattercarpet": [
           {
            "marker": {
             "colorbar": {
              "outlinewidth": 0,
              "ticks": ""
             }
            },
            "type": "scattercarpet"
           }
          ],
          "scattergeo": [
           {
            "marker": {
             "colorbar": {
              "outlinewidth": 0,
              "ticks": ""
             }
            },
            "type": "scattergeo"
           }
          ],
          "scattergl": [
           {
            "marker": {
             "colorbar": {
              "outlinewidth": 0,
              "ticks": ""
             }
            },
            "type": "scattergl"
           }
          ],
          "scattermapbox": [
           {
            "marker": {
             "colorbar": {
              "outlinewidth": 0,
              "ticks": ""
             }
            },
            "type": "scattermapbox"
           }
          ],
          "scatterpolar": [
           {
            "marker": {
             "colorbar": {
              "outlinewidth": 0,
              "ticks": ""
             }
            },
            "type": "scatterpolar"
           }
          ],
          "scatterpolargl": [
           {
            "marker": {
             "colorbar": {
              "outlinewidth": 0,
              "ticks": ""
             }
            },
            "type": "scatterpolargl"
           }
          ],
          "scatterternary": [
           {
            "marker": {
             "colorbar": {
              "outlinewidth": 0,
              "ticks": ""
             }
            },
            "type": "scatterternary"
           }
          ],
          "surface": [
           {
            "colorbar": {
             "outlinewidth": 0,
             "ticks": ""
            },
            "colorscale": [
             [
              0,
              "#0d0887"
             ],
             [
              0.1111111111111111,
              "#46039f"
             ],
             [
              0.2222222222222222,
              "#7201a8"
             ],
             [
              0.3333333333333333,
              "#9c179e"
             ],
             [
              0.4444444444444444,
              "#bd3786"
             ],
             [
              0.5555555555555556,
              "#d8576b"
             ],
             [
              0.6666666666666666,
              "#ed7953"
             ],
             [
              0.7777777777777778,
              "#fb9f3a"
             ],
             [
              0.8888888888888888,
              "#fdca26"
             ],
             [
              1,
              "#f0f921"
             ]
            ],
            "type": "surface"
           }
          ],
          "table": [
           {
            "cells": {
             "fill": {
              "color": "#EBF0F8"
             },
             "line": {
              "color": "white"
             }
            },
            "header": {
             "fill": {
              "color": "#C8D4E3"
             },
             "line": {
              "color": "white"
             }
            },
            "type": "table"
           }
          ]
         },
         "layout": {
          "annotationdefaults": {
           "arrowcolor": "#2a3f5f",
           "arrowhead": 0,
           "arrowwidth": 1
          },
          "autotypenumbers": "strict",
          "coloraxis": {
           "colorbar": {
            "outlinewidth": 0,
            "ticks": ""
           }
          },
          "colorscale": {
           "diverging": [
            [
             0,
             "#8e0152"
            ],
            [
             0.1,
             "#c51b7d"
            ],
            [
             0.2,
             "#de77ae"
            ],
            [
             0.3,
             "#f1b6da"
            ],
            [
             0.4,
             "#fde0ef"
            ],
            [
             0.5,
             "#f7f7f7"
            ],
            [
             0.6,
             "#e6f5d0"
            ],
            [
             0.7,
             "#b8e186"
            ],
            [
             0.8,
             "#7fbc41"
            ],
            [
             0.9,
             "#4d9221"
            ],
            [
             1,
             "#276419"
            ]
           ],
           "sequential": [
            [
             0,
             "#0d0887"
            ],
            [
             0.1111111111111111,
             "#46039f"
            ],
            [
             0.2222222222222222,
             "#7201a8"
            ],
            [
             0.3333333333333333,
             "#9c179e"
            ],
            [
             0.4444444444444444,
             "#bd3786"
            ],
            [
             0.5555555555555556,
             "#d8576b"
            ],
            [
             0.6666666666666666,
             "#ed7953"
            ],
            [
             0.7777777777777778,
             "#fb9f3a"
            ],
            [
             0.8888888888888888,
             "#fdca26"
            ],
            [
             1,
             "#f0f921"
            ]
           ],
           "sequentialminus": [
            [
             0,
             "#0d0887"
            ],
            [
             0.1111111111111111,
             "#46039f"
            ],
            [
             0.2222222222222222,
             "#7201a8"
            ],
            [
             0.3333333333333333,
             "#9c179e"
            ],
            [
             0.4444444444444444,
             "#bd3786"
            ],
            [
             0.5555555555555556,
             "#d8576b"
            ],
            [
             0.6666666666666666,
             "#ed7953"
            ],
            [
             0.7777777777777778,
             "#fb9f3a"
            ],
            [
             0.8888888888888888,
             "#fdca26"
            ],
            [
             1,
             "#f0f921"
            ]
           ]
          },
          "colorway": [
           "#636efa",
           "#EF553B",
           "#00cc96",
           "#ab63fa",
           "#FFA15A",
           "#19d3f3",
           "#FF6692",
           "#B6E880",
           "#FF97FF",
           "#FECB52"
          ],
          "font": {
           "color": "#2a3f5f"
          },
          "geo": {
           "bgcolor": "white",
           "lakecolor": "white",
           "landcolor": "#E5ECF6",
           "showlakes": true,
           "showland": true,
           "subunitcolor": "white"
          },
          "hoverlabel": {
           "align": "left"
          },
          "hovermode": "closest",
          "mapbox": {
           "style": "light"
          },
          "paper_bgcolor": "white",
          "plot_bgcolor": "#E5ECF6",
          "polar": {
           "angularaxis": {
            "gridcolor": "white",
            "linecolor": "white",
            "ticks": ""
           },
           "bgcolor": "#E5ECF6",
           "radialaxis": {
            "gridcolor": "white",
            "linecolor": "white",
            "ticks": ""
           }
          },
          "scene": {
           "xaxis": {
            "backgroundcolor": "#E5ECF6",
            "gridcolor": "white",
            "gridwidth": 2,
            "linecolor": "white",
            "showbackground": true,
            "ticks": "",
            "zerolinecolor": "white"
           },
           "yaxis": {
            "backgroundcolor": "#E5ECF6",
            "gridcolor": "white",
            "gridwidth": 2,
            "linecolor": "white",
            "showbackground": true,
            "ticks": "",
            "zerolinecolor": "white"
           },
           "zaxis": {
            "backgroundcolor": "#E5ECF6",
            "gridcolor": "white",
            "gridwidth": 2,
            "linecolor": "white",
            "showbackground": true,
            "ticks": "",
            "zerolinecolor": "white"
           }
          },
          "shapedefaults": {
           "line": {
            "color": "#2a3f5f"
           }
          },
          "ternary": {
           "aaxis": {
            "gridcolor": "white",
            "linecolor": "white",
            "ticks": ""
           },
           "baxis": {
            "gridcolor": "white",
            "linecolor": "white",
            "ticks": ""
           },
           "bgcolor": "#E5ECF6",
           "caxis": {
            "gridcolor": "white",
            "linecolor": "white",
            "ticks": ""
           }
          },
          "title": {
           "x": 0.05
          },
          "xaxis": {
           "automargin": true,
           "gridcolor": "white",
           "linecolor": "white",
           "ticks": "",
           "title": {
            "standoff": 15
           },
           "zerolinecolor": "white",
           "zerolinewidth": 2
          },
          "yaxis": {
           "automargin": true,
           "gridcolor": "white",
           "linecolor": "white",
           "ticks": "",
           "title": {
            "standoff": 15
           },
           "zerolinecolor": "white",
           "zerolinewidth": 2
          }
         }
        },
        "title": {
         "font": {
          "family": "Arial, sans-serif",
          "size": 20
         }
        },
        "width": 500,
        "xaxis": {
         "anchor": "y",
         "categoryarray": [
          "病历撰写时间"
         ],
         "categoryorder": "array",
         "domain": [
          0,
          1
         ],
         "title": {
          "font": {
           "family": "Arial, sans-serif",
           "size": 14
          },
          "text": "Clinical Task Metric"
         }
        },
        "yaxis": {
         "anchor": "x",
         "domain": [
          0,
          1
         ],
         "title": {
          "font": {
           "family": "Arial, sans-serif",
           "size": 14
          },
          "text": "Score"
         }
        }
       }
      }
     },
     "metadata": {},
     "output_type": "display_data"
    },
    {
     "name": "stdout",
     "output_type": "stream",
     "text": [
      "==================================================\n"
     ]
    }
   ],
   "source": [
    "# 8 病历撰写时间\n",
    "print(\"=\"*25+\"病历撰写时间\"+\"=\"*25)\n",
    "dzz_records = pd.read_excel(r'D:\\work\\code\\psychgpt\\prospective\\CRF\\dzz.xlsx')\n",
    "syz_records = pd.read_excel(r'D:\\work\\code\\psychgpt\\prospective\\CRF\\syz.xlsx')\n",
    "\n",
    "write_time_dzz = dzz_records['FirstCourse_time'].tolist() # minute\n",
    "print(write_time_dzz)\n",
    "print(len(write_time_dzz))\n",
    "print(f\"对照组病历撰写时间：{np.mean(write_time_dzz)} +- {np.std(write_time_dzz)}\")\n",
    "\n",
    "write_time_syz = syz_records['FirstCourse_time'].tolist() # minute\n",
    "print(write_time_syz)\n",
    "print(len(write_time_syz))\n",
    "print(f\"实验组病历撰写时间：{np.mean(write_time_syz)} +- {np.std(write_time_syz)}\")\n",
    "\n",
    "draw_boxplot(\"病历撰写时间\", write_time_dzz, write_time_syz)\n",
    "print(\"=\"*50)"
   ]
  },
  {
   "cell_type": "code",
   "execution_count": null,
   "id": "7ea51b0b",
   "metadata": {},
   "outputs": [],
   "source": [
    "# 2 问诊全面性 （专家打分）\n",
    "\n",
    "print(\"=\"*25+\"问诊全面性\"+\"=\"*25)\n",
    "\n",
    "interview_content_dzz = dzz_basic_df['现病史'].tolist()\n",
    "interview_score_dzz = []\n",
    "for content in tqdm(interview_content_dzz):\n",
    "    query = f\"\"\"请根据以下评分标准，对低年资医生通过向患者问诊后撰写的现病史内容的全面性进行评分。只输出最终评分，不要输出任何其他内容。评分标准如下：\n",
    "    问诊内容应包括：\n",
    "    1. 起病情况：年龄、诱因（社会心理因素/躯体因素/无诱因）、发病形式（急性/亚急性/慢性）。关键点：是否明确诱因性质（如具体生活事件）、发病时间节点（如精确到周/月）。\n",
    "    2. 病程特点：总病程时长、波动性（发作性/持续性）、加重或缓解因素（如季节、应激事件）。关键点：是否描述症状演变趋势（如进行性加重或周期性缓解）。\n",
    "    3. 临床表现：早期症状（首发症状、前驱症状）、核心症状（如幻觉、妄想、情感症状）。关键点：是否区分症状的严重程度（如对功能的影响）及症状群关联性。\n",
    "    4. 鉴别诊断信息：阳性症状（支持主诊断的特征）、阴性症状（排除其他疾病的依据，如器质性疾病证据、物质滥用史）。关键点：是否主动询问躯体疾病史、家族史、物质使用史。\n",
    "    5. 既往治疗史：既往诊断（具体诊断名称）、用药史（药物名称、剂量、疗程、疗效、副作用）。关键点：是否记录治疗依从性及患者对治疗的主观反馈。\n",
    "    6. 社会功能评估：病后职业/学业、人际交往、日常生活能力变化（需量化，如缺勤天数、社交回避频率）。关键点：是否使用标准化工具（如GAF量表）或具体行为描述。\n",
    "    7. 伴随症状：躯体症状（睡眠、食欲、躯体疼痛）、认知功能（注意力、记忆力）、自杀/自伤风险。关键点：是否评估生物学症状（如早醒）及风险行为细节。\n",
    "    \n",
    "    评分标准（5分制）：\n",
    "    5分：7项均完整且包含细节（如诱因具体化、病程时间轴、症状量化描述、鉴别依据明确）。\n",
    "    4分：7项完整，但≤2项缺乏细节（如仅记录“有诱因”未说明内容）。\n",
    "    3分：1项关键信息缺失，或≥3项信息笼统。\n",
    "    2分：2项关键信息缺失。\n",
    "    1分：≥3项关键信息缺失，或遗漏核心模块（如未问诊自杀风险）。\n",
    "    \n",
    "    评分说明\n",
    "    “关键信息缺失”定义：任一核心模块（1-7项）完全未涉及。\n",
    "    “信息详细”标准：需包含具体描述而非笼统回答（如“因失业发病”优于“有诱因”）。\n",
    "    鉴别诊断加分项：主动询问非精神科问题（如甲状腺功能、脑损伤史）额外加权。\n",
    "    \n",
    "    问诊后撰写的现病史：\n",
    "    {content}\n",
    "    \n",
    "    \"\"\"\n",
    "    response = ollama.chat(\n",
    "        model=\"qwen2.5:3b\",\n",
    "        messages=[\n",
    "            {\"role\": \"user\", \"content\": query},\n",
    "        ],\n",
    "    )\n",
    "    print(response['message']['content'])\n",
    "    \n",
    "    interview_score_dzz.append(response['message']['content'])\n",
    "print(interview_score_dzz)\n",
    "\n",
    "print(\"=\"*50)"
   ]
  },
  {
   "cell_type": "code",
   "execution_count": null,
   "id": "e044013a",
   "metadata": {},
   "outputs": [
    {
     "name": "stdout",
     "output_type": "stream",
     "text": [
      "43, [12.0, 23.0, 31.0, 18.0, 30.0, 6.0, 0.0, 27.0, 19.0, 25.0, 0.0, 14.0, 14.0, 6.0, 21.0, 3.0, 11.0, 18.0, 6.0, 0.0, 28.0, 0.0, 14.0, 2.0, 2.0, 27.0, 4.0, 9.0, 31.0, 30.0, 11.0, 25.0, 7.0, 23.0, 14.0, 34.0, 23.0, 24.0, 4.0, 16.0, 15.0, 0.0, 3.0]\n",
      "36, [14.0, 17.0, 18.0, 14.0, 11.0, 0.0, 15.0, 6.0, 6.0, 0.0, 0.0, 7.0, 3.0, 15.0, 7.0, 10.0, 0.0, 19.0, 0.0, 16.0, 4.0, 1.0, 12.0, 0.0, 0.0, 17.0, 19.0, 8.0, 5.0, 7.0, 15.0, 27.0, 21.0, 9.0, 0.0, 3.0]\n",
      "28, [9.0, 15.0, 6.0, 8.0, 0.0, 11.0, 4.0, 2.0, 0.0, 0.0, 2.0, 7.0, 6.0, 6.0, 0.0, 10.0, 0.0, 15.0, 3.0, 0.0, 0.0, 4.0, 11.0, 11.0, 10.0, 12.0, 12.0, 5.0]\n",
      "16, [6.0, 10.0, 2.0, 3.0, 7.0, 4.0, 0.0, 4.0, 13.0, 0.0, 7.0, 15.0, 5.0, 10.0, 7.0, 7.0]\n"
     ]
    }
   ],
   "source": [
    "# 计算指标\n",
    "\n",
    "\n",
    "\n",
    "\n",
    "\n",
    "# 3 诊断准确率\n",
    "\n",
    "# print(\"=\"*25+\"诊断准确率\"+\"=\"*25)\n",
    "\n",
    "# initial_diagnosis_all = []\n",
    "# final_diagnosis_all = []\n",
    "# diagnosis_accuracy_dzz = []\n",
    "\n",
    "# 根据首程计算\n",
    "# for ipid in tqdm(dzz_basic_df['IPID'].tolist()):\n",
    "#     final_diagnosis = dzz_basic_df[dzz_basic_df['IPID'] == ipid]['出院主要诊断'].iloc[0]\n",
    "#     final_diagnosis_all.append(final_diagnosis)\n",
    "    \n",
    "#     initial_diagnosis = dzz_sc_df[dzz_sc_df['SYXH'] == ipid]['YZTL'].iloc[0]\n",
    "#     initial_diagnosis = re.search(r\"入院印象：(.*?)鉴别诊断\", initial_diagnosis, re.DOTALL).group(1).strip()\n",
    "#     initial_diagnosis_all.append(initial_diagnosis)\n",
    "    \n",
    "#     print(f\"{initial_diagnosis} || {final_diagnosis}\")\n",
    "\n",
    "# 根据CRF记录计算\n",
    "# for patient in tqdm(dzz_records.iterrows()):\n",
    "#     ipid = patient[1]['IPID']\n",
    "#     initial_diagnosis = patient[1]['Diagnosis']\n",
    "#     initial_diagnosis_all.append(initial_diagnosis)\n",
    "    \n",
    "#     if len(dzz_basic_df[dzz_basic_df['IPID'] == ipid]['出院主要诊断']) != 0:\n",
    "#         final_diagnosis = dzz_basic_df[dzz_basic_df['IPID'] == ipid]['出院主要诊断'].iloc[0]\n",
    "#     elif len(dzz_basic_df[dzz_basic_df['ADMINISSION_NO'] == ipid]['出院主要诊断']) != 0:\n",
    "#         final_diagnosis = dzz_basic_df[dzz_basic_df['ADMINISSION_NO'] == ipid]['出院主要诊断'].iloc[0]\n",
    "#     else:\n",
    "#         continue\n",
    "    \n",
    "#     final_diagnosis_all.append(final_diagnosis)\n",
    "#     print(f\"{ipid} || {initial_diagnosis} || {final_diagnosis}\")\n",
    "        \n",
    "# print(initial_diagnosis_all)\n",
    "# print(len(initial_diagnosis_all))\n",
    "# print(final_diagnosis_all)\n",
    "# print(len(final_diagnosis_all))\n",
    "\n",
    "# print(\"=\"*50)\n",
    "\n",
    "# 4 诊断全面性 （结合病程管理来看）\n",
    "\n",
    "# print(\"=\"*25+\"诊断全面性\"+\"=\"*25)\n",
    "# initial_diagnosis_other_all = []\n",
    "# final_diagnosis_other_all = []\n",
    "# diagnosis_comprehensive_dzz = []\n",
    "\n",
    "# for ipid in tqdm(dzz_basic_df['IPID'].tolist()):\n",
    "#     final_diagnosis = dzz_basic_df[dzz_basic_df['IPID'] == ipid]['出院其他诊断'].iloc[0]\n",
    "#     final_diagnosis_other_all.append(final_diagnosis)\n",
    "    \n",
    "#     initial_diagnosis = dzz_sc_df[dzz_sc_df['SYXH'] == ipid]['YZTL'].iloc[0]\n",
    "#     initial_diagnosis = re.search(r\"入院印象：(.*?)鉴别诊断\", initial_diagnosis, re.DOTALL).group(1).strip()\n",
    "#     initial_diagnosis_other_all.append(initial_diagnosis)\n",
    "    \n",
    "#     print(f\"{ipid} || {initial_diagnosis} || {final_diagnosis}\")\n",
    "\n",
    "\n",
    "# print(\"=\"*50)\n",
    "\n",
    "# 5 鉴别准确性 （专家打分）\n",
    "\n",
    "# print(\"=\"*25+\"鉴别准确性\"+\"=\"*25)\n",
    "\n",
    "# differential_content_dzz = dzz_sc_df['YZTL'].tolist()\n",
    "# differential_score_dzz = []\n",
    "# for content in tqdm(differential_content_dzz):\n",
    "#     content = re.search(r\"鉴别诊断：(.*?)诊疗计划：\", content, re.DOTALL).group(1).strip()\n",
    "#     query = f\"\"\"请从精神科临床专家的角度，对下面精神科医生对某位患者给出的鉴别诊断分析进行评分。只输出最终评分，不要输出任何其他内容。评分标准如下：\n",
    "#     1. 是否排除至少3种以上需鉴别的疾病。\n",
    "#     2. 是否根据患者具体情况，说明每项鉴别疾病的排除依据。\n",
    "#     3. 对于尚无法排除的疾病，是否说明后续鉴别的方法。\n",
    "    \n",
    "#     评分标准（5分制）：\n",
    "#     5分：鉴别诊断全面，至少排除3种以上疾病，并说明每项疾病的排除依据。\n",
    "#     4分：鉴别诊断较全面，排除3种以上疾病，但缺乏具体的排除依据。\n",
    "#     3分：鉴别诊断一般，仅排除2种疾病，或缺乏具体的排除依据。\n",
    "#     2分：鉴别诊断较差，仅排除1种疾病，或缺乏具体的排除依据。\n",
    "#     1分：鉴别诊断差，未排除任何疾病，或缺乏具体的排除依据。\n",
    "    \n",
    "#     鉴别诊断分析：\n",
    "#     {content}\n",
    "    \n",
    "#     \"\"\"\n",
    "#     response = ollama.chat(\n",
    "#         model=\"qwen2.5:3b\",\n",
    "#         messages=[\n",
    "#             {\"role\": \"user\", \"content\": query},\n",
    "#         ],\n",
    "#     )\n",
    "#     print(response['message']['content'])\n",
    "    \n",
    "#     differential_score_dzz.append(response['message']['content'])\n",
    "\n",
    "# print(differential_score_dzz)\n",
    "\n",
    "# print(\"=\"*50)\n",
    "\n",
    "# 6 鉴别全面性\n",
    "\n",
    "# print(\"=\"*25+\"鉴别全面性\"+\"=\"*25)\n",
    "\n",
    "# differential_content_dzz = dzz_sc_df['YZTL'].tolist()\n",
    "# differential_comprehensive_dzz = []\n",
    "\n",
    "# for content in tqdm(differential_content_dzz):\n",
    "#     content = re.search(r\"鉴别诊断：(.*?)诊疗计划：\", content, re.DOTALL).group(1).strip()\n",
    "    \n",
    "#     print(content)\n",
    "#     num_differential = len(re.findall(r'\\d+[.、]', content, re.DOTALL))\n",
    "#     print(num_differential)\n",
    "    \n",
    "#     differential_comprehensive_dzz.append(num_differential)\n",
    "\n",
    "# print(differential_comprehensive_dzz)\n",
    "\n",
    "# print(\"=\"*50)\n",
    "\n",
    "# 7 用药准确性 （区分有无转相，分组计算）\n",
    "\n",
    "# print(\"=\"*25+\"问诊时间\"+\"=\"*25)\n",
    "\n",
    "# medication_initial_dzz_all = []\n",
    "# medication_final_dzz_all = []\n",
    "# correct_medication_all = []\n",
    "\n",
    "# # 根据CRF记录计算\n",
    "# for patient in tqdm(dzz_records.iterrows()):\n",
    "#     ipid0 = patient[1]['IPID']\n",
    "#     medication_initial_dzz = re.split(',|、|，| ', patient[1]['Treatment'])\n",
    "#     medication_initial_dzz_all.append(medication_initial_dzz)\n",
    "#     try:\n",
    "#         ipid1 = dzz_basic_df[dzz_basic_df['ADMINISSION_NO'] == ipid0]['IPID'].iloc[0]\n",
    "#     except:\n",
    "#         ipid1 = ipid0\n",
    "    \n",
    "#     if len(dzz_order_df[dzz_order_df['IPID'] == ipid0]['药品名称']) != 0:\n",
    "#         medication_final_dzz = list(set(dzz_order_df[dzz_order_df['IPID'] == ipid0]['药品名称'].tolist()))\n",
    "#     elif len(dzz_order_df[dzz_order_df['IPID'] == ipid1]['药品名称']) != 0:\n",
    "#         medication_final_dzz = list(set(dzz_order_df[dzz_order_df['IPID'] == ipid1]['药品名称'].tolist()))\n",
    "#     else:\n",
    "#         continue\n",
    "    \n",
    "#     medication_final_psych_dzz = []\n",
    "#     for medication in medication_final_dzz:\n",
    "#         if medication in medication_list:\n",
    "#             medication_final_psych_dzz.append(medication)\n",
    "            \n",
    "    \n",
    "#     medication_final_dzz_all.append(medication_final_psych_dzz)\n",
    "    \n",
    "    \n",
    "#     correct_medication = []\n",
    "#     for medication in medication_initial_dzz:\n",
    "#         if any(medication in s for s in medication_list_simple):\n",
    "#             correct_medication.append(medication)\n",
    "    \n",
    "#     correct_medication_all.append(len(correct_medication)/len(medication_final_psych_dzz))\n",
    "    \n",
    "#     print(f\"{ipid0} || {medication_initial_dzz} || {medication_final_psych_dzz} || {len(correct_medication)/len(medication_final_psych_dzz)}\")\n",
    "    \n",
    "\n",
    "# print(\"=\"*50)\n",
    "\n",
    "\n",
    "\n",
    "\n",
    "# 9 患者量表评估 （部分患者住院时长不够4周）\n",
    "\n",
    "# # 汉密尔顿抑郁量表\n",
    "# hamd_w1_dzz = []\n",
    "# hamd_w2_dzz = []\n",
    "# hamd_w3_dzz = []\n",
    "# hamd_w4_dzz = []\n",
    "\n",
    "# hamds_dzz = dzz_scale_df[dzz_scale_df['量表名'] == '汉密尔顿抑郁量表']\n",
    "# hamds_dzz = hamds_dzz.dropna(subset=['记录时间', '总分', '题目', '分值'])\n",
    "\n",
    "# for ipid in hamds_dzz['IPID'].unique():\n",
    "#     patients = hamds_dzz[hamds_dzz['IPID'] == ipid]\n",
    "#     records = patients.groupby('记录时间')\n",
    "#     num = 0\n",
    "#     for record_time, group in records:\n",
    "#         if num == 0:\n",
    "#             hamd_w1_dzz.append(group.iloc[0]['总分'])\n",
    "#             num += 1\n",
    "#         elif num == 1:\n",
    "#             hamd_w2_dzz.append(group.iloc[0]['总分'])\n",
    "#             num += 1\n",
    "#         elif num == 2:\n",
    "#             hamd_w3_dzz.append(group.iloc[0]['总分'])\n",
    "#             num += 1\n",
    "#         elif num == 3:\n",
    "#             hamd_w4_dzz.append(group.iloc[0]['总分'])\n",
    "#             num += 1\n",
    "        \n",
    "# print(f\"{len(hamd_w1_dzz)}, {hamd_w1_dzz}\")\n",
    "# print(f\"{len(hamd_w2_dzz)}, {hamd_w2_dzz}\")\n",
    "# print(f\"{len(hamd_w3_dzz)}, {hamd_w3_dzz}\")\n",
    "# print(f\"{len(hamd_w4_dzz)}, {hamd_w4_dzz}\")\n",
    "\n",
    "# # CGI 疾病改善量表\n",
    "\n",
    "\n",
    "# # 自评量表\n"
   ]
  },
  {
   "cell_type": "code",
   "execution_count": 18,
   "id": "f2043d87",
   "metadata": {},
   "outputs": [
    {
     "data": {
      "image/png": "[encoded data removed]",
      "text/plain": [
       "<Figure size 800x400 with 1 Axes>"
      ]
     },
     "metadata": {},
     "output_type": "display_data"
    }
   ],
   "source": [
    "import pandas as pd\n",
    "import numpy as np\n",
    "import seaborn as sns\n",
    "import matplotlib.pyplot as plt\n",
    "\n",
    "# 设置随机种子以保证可重复性\n",
    "np.random.seed(42)\n",
    "\n",
    "# 模拟数据\n",
    "weeks = np.array([1, 2, 3, 4])  # 4周的时间\n",
    "groups = np.array(['Control', 'Experimental'])  # 两组\n",
    "num_patients = 100  # 每组100个患者\n",
    "\n",
    "# 生成模拟评分数据\n",
    "data = []\n",
    "for group in groups:\n",
    "    for week in weeks:\n",
    "        # 生成每周的CGI-I评分数据（模拟评分）\n",
    "        if group == 'Control':\n",
    "            if week == 1:\n",
    "                scores = np.array(hamd_w1_dzz)\n",
    "            elif week == 2:\n",
    "                scores = np.array(hamd_w2_dzz)\n",
    "            elif week == 3:\n",
    "                scores = np.array(hamd_w3_dzz)\n",
    "            elif week == 4:\n",
    "                scores = np.array(hamd_w4_dzz)\n",
    "        else:\n",
    "            if week == 1:\n",
    "                scores = np.array([0])\n",
    "            elif week == 2:\n",
    "                scores = np.array([0])\n",
    "            elif week == 3:\n",
    "                scores = np.array([0])\n",
    "            elif week == 4:\n",
    "                scores = np.array([0])\n",
    "        for score in scores:\n",
    "            data.append([group, week, score])\n",
    "\n",
    "# 创建DataFrame\n",
    "df = pd.DataFrame(data, columns=['Group', 'Week', 'CGI_Score'])\n",
    "\n",
    "# 显示前几行数据\n",
    "df.head()\n",
    "\n",
    "\n",
    "plt.figure(figsize=(8, 4))\n",
    "sns.lineplot(x='Week', y='CGI_Score', hue='Group', data=df, marker='o', palette='muted')\n",
    "plt.title('CGI-I Scores Over Time for Control and Experimental Groups', fontsize=16)\n",
    "plt.xlabel('Week', fontsize=14)\n",
    "plt.ylabel('CGI-I Score', fontsize=14)\n",
    "plt.xticks([1, 2, 3, 4], ['Week 1', 'Week 2', 'Week 3', 'Week 4'])\n",
    "plt.legend(title='Group')\n",
    "plt.tight_layout()\n",
    "sns.despine()\n",
    "plt.grid(False)\n",
    "plt.show()\n",
    "\n",
    "\n",
    "\n",
    "\n",
    "# plt.figure(figsize=(10, 6))\n",
    "# sns.lineplot(x='Week', y='CGI_Score', hue='Group', data=df, marker='o', ci=\"sd\", palette='muted')\n",
    "# plt.title('CGI-I Scores Over Time for Control and Experimental Groups', fontsize=16)\n",
    "# plt.xlabel('Week', fontsize=14)\n",
    "# plt.ylabel('CGI-I Score', fontsize=14)\n",
    "# plt.xticks([1, 2, 3, 4], ['Week 1', 'Week 2', 'Week 3', 'Week 4'])\n",
    "# plt.legend(title='Group')\n",
    "# plt.tight_layout()\n",
    "# plt.show()\n",
    "\n"
   ]
  },
  {
   "cell_type": "code",
   "execution_count": 23,
   "id": "762c3e3a",
   "metadata": {},
   "outputs": [
    {
     "name": "stdout",
     "output_type": "stream",
     "text": [
      "['2', '2分', '根据您提供的信息，该用户似乎经历了一系列精神健康问题，包括双相情感障碍和可能的应激反应或创伤后压力症状。以下是一些建议，但请注意，在实际操作中需要专业医护人员的详细评估与指导：\\n\\n1. **医疗治疗**：持续遵循医生开具的药物处方，并定期复诊以监测病情变化及调整用药方案。\\n\\n2. **心理支持**：\\n   - 开展认知行为疗法等心理干预措施。\\n   - 参加患者教育和支持小组，与其他经历类似情况的人交流心得。\\n   - 如果需要的话，可以寻求精神科医师的帮助，进行个体或团体心理咨询治疗。\\n\\n3. **环境调整**：\\n   - 保持居住环境整洁有序，减少潜在刺激因素。\\n   - 增强家庭成员之间的沟通与理解，尽量避免冲突。\\n\\n4. **安全措施**：确保家中安全无隐患，必要时安装监控设备。当情绪失控危险时，请采取适当措施保护自己和他人的安全（例如将尖锐物品放在远离儿童的地方）。\\n\\n5. **社会支持网络**：\\n   - 加入社区组织或兴趣小组，与志同道合的人建立联系。\\n   - 保持乐观积极的心态，同时也要认识到寻求专业帮助的重要性。\\n\\n6. **健康生活方式**：适量运动、均衡饮食、充足睡眠对于改善整体身心健康非常重要。\\n\\n7. **紧急情况处理计划**：\\n   - 制定家庭成员都知晓的紧急应对措施和联系方式。\\n   - 确保始终随身携带身份证件以及必要的医疗文件复印件。\\n\\n请注意，由于涉及到了一些复杂的人身安全问题，在实际操作中需要谨慎考虑并寻求专业机构的指导。如果发现该用户的行为有威胁到自身或他人生命安全的风险，请立即联系警方和医疗机构求助。', '根据您提供的病史描述，这位患者的情况涉及反复发作的双相情感障碍。这种疾病的特点是情绪状态在躁狂期和抑郁期之间波动。对于该患者的管理需要多方面的考虑，包括药物治疗、心理支持和社会干预。\\n\\n以下是一些可能有助于管理和改善病情的建议：\\n\\n1. **持续监测与定期评估**：由于患者有频繁复发的情况，应该建立一个详细的跟踪机制，并定期进行专业评估以调整治疗方案。\\n   \\n2. **合适的抗精神病药和锂盐使用**：根据之前的治疗经验，患者的药物组合（喹硫平、碳酸锂等）可能需要进一步调整。可能需要增加剂量或更换为其他有效的双相障碍维持药物。\\n\\n3. **心理支持与社会干预**：\\n   - 患者及家属的心理教育和支持服务可以帮助理解疾病和管理症状。\\n   - 提供行为矫正和技术训练，帮助改善患者的行为问题如冲动控制、情绪波动等。\\n   \\n4. **生活方式的调整**：鼓励规律的生活习惯（包括定时饮食、适量运动），减少压力源。这有助于维持疾病的稳定。\\n\\n5. **家庭和社会支持系统的重要性**：确保有一个强有力的社交网络来提供情感支持和实际帮助，这对于患者的整体康复非常重要。\\n\\n6. **定期随访与监测**：即使当前症状得到缓解，也需要按照医嘱定期复诊并进行血液检查以监控药物副作用和病情变化。\\n\\n请注意，上述建议应由专业医疗人员根据患者的实际情况制定具体的治疗计划。每位患者的情况都是独特的，因此个性化治疗方案至关重要。', '3分', '根据您提供的病史描述，这位患者的病情较为复杂且反复发作，涉及多种药物和频繁的波动情况表明其抑郁症已经进展到急性抑郁状态，即再次出现失眠、情绪低落，自伤行为引起关注并入院治疗。此阶段患者症状加重至无法自主活动，仅在家属陪同下就诊。目前仍然存在多日不起来，睡眠困难，早醒后很难再入睡。表现出胸闷心慌，出汗一天5-6次，头疼等，自言自己难受不想活。目前服用度洛西汀、曲唑酮、阿立哌唑、奥沙西泮。尽管已经多次住院和多种治疗方案尝试，但症状仍反复发作。\\n\\n以下是一些建议：\\n\\n1. **药物调整**：考虑调整现有的抗抑郁及焦虑药物组合以减少副作用并增加疗效，可能包括氟西汀与奥氮平的联合使用。同时考虑是否需要其他辅助药物，如褪黑素受体激动剂来改善睡眠问题。\\n\\n2. **心理治疗**：持续的心理咨询和支持疗法对于抑郁症患者非常重要。认知行为疗法（CBT）可以帮助患者识别和改变消极思维模式，提高应对能力。\\n\\n3. **生活方式调整**：\\n   - 保持规律的作息时间。\\n   - 增加适量的身体活动，如散步或瑜伽。\\n   - 尝试放松技巧，如深呼吸、冥想等。\\n   - 饮食方面应注重营养均衡，避免大量咖啡因和酒精摄入。\\n\\n4. **家庭和社会支持**：患者需要家庭和社会的支持。家人需要给予患者充分的理解和支持，并尽量减少对患者的过度控制，营造安全和谐的家庭氛围有助于稳定情绪。\\n\\n5. **康复团队协作**：建立一个跨学科的康复团队，包括心理医生、精神科医师、营养师等共同评估和制定治疗计划。\\n\\n6. **危机干预**：鉴于患者存在严重的自伤风险，应安排专人对其进行严密观察并准备紧急应对措施。如病情严重或药物疗效不佳时可考虑短期住院治疗以确保安全。\\n\\n7. **康复训练**：对于行动困难、精神活动受限的患者，可以进行一些简单的康复训练和心理社会功能训练。\\n\\n根据您提供的信息，这位患者的症状复杂且反复发作，因此需要一个多学科团队共同协作制定全面的治疗方案，并密切监测其病情变化。同时也要密切关注患者的心理状态和社会支持系统的变化。', '3分', '3分', '3分', '3分', '根据你提供的信息，这位患者似乎患有严重的抑郁症，并且可能伴有精神病性症状的重度抑郁发作，包括自杀观念和行为。以下是对患者情况的一些分析和建议：\\n\\n1. **诊断明确**：已经通过临床评估和药物治疗确诊为“复发性抑郁障碍，伴有精神病性症状的重度发作”。需要持续的医疗管理和定期的精神科会诊。\\n\\n2. **药物管理**：\\n   - 文拉法辛75mg/日\\n   - 丙戊酸钠缓释片1000mg/日\\n   - 帕利哌酮缓释片6mg/日\\n   - 苯海索4mg/日\\n\\n3. **剂量调整**：考虑到患者目前的症状波动和自杀风险，需要密切监测药物疗效，并根据医生的建议进行适当调整。\\n\\n4. **非药物管理**：\\n   - 心理治疗（如认知行为疗法）\\n   - 家庭和社会支持\\n   - 睡眠卫生指导\\n   - 认知重构训练\\n\\n5. **自杀风险评估与干预**：鉴于患者存在自杀倾向，应强化自我保护措施，例如限制家中危险物品的可获得性、安装安全门或窗等。同时需要专业的心理危机干预。\\n\\n6. **定期随访**：住院期间及出院后均需进行系统复诊，以便及时调整治疗方案并监测病情变化。\\n\\n7. **其他注意事项**：\\n   - 加强自杀风险评估与管理\\n   - 配合临床康复项目以促进整体恢复\\n\\n鉴于患者存在反复的自杀意念和行为，以及药物治疗后的波动性，需要一个综合性和个体化的康复计划。家庭成员和朋友的支持非常重要，并且应鼓励他们参与患者的护理过程。\\n\\n请务必遵从专业医护人员的具体指导进行管理，并在必要时调整治疗方案以应对可能出现的变化。', '1', '2分', '1', '3分', '根据您提供的信息，这位患者的病史和症状相当复杂和严重。以下是一些主要的诊断要点以及治疗建议：\\n\\n### 1. **临床诊断**\\n- **双相情感障碍**：该患者多次出现情绪波动大、躁狂和抑郁的症状。\\n- **精神分裂症谱系障碍**（可能与双相情感障碍共病）：伴有幻觉（如听人声音命令自己好好学习）、妄想（觉得有人跟着自己要对他不利，担心被绑架），以及行为症状如自伤、暴饮暴食等）。这些特征提示可能存在精神分裂症。\\n- **药物不良反应**：多次使用喹硫平及其缓释片和伏硫西汀可能导致低血压等副作用。患者近期已减少并调用帕利哌酮治疗。\\n\\n### 2. **主要治疗建议**\\n1. **抗精神病药物**：\\n   - 阿立哌唑/帕利哌酮、喹硫平剂量减量，同时辅以锂盐酸和暴饮暴食，医生进一步调整并制定个体与认知的介入方案。\\n2. **降压稳定、镇静药氯片30mg后出现低血压反应。  \\n3. **增加帕利哌酮剂量至6mg**（早晚）；减少喹硫西汀及药物摄入。\\n4. 适当补充营养，保持水电解质平衡，维持生命体位性低血症患者表示自己有声音命令自己学习等幻觉和感觉有人要绑架。  \\n5. **加强心理介入和物理治疗支持疗法**：增加帕利哌酮剂量，3mg/天，家属与心理咨询师联系。\\n6. **饮食、睡眠调整剂帮助入睡**。\\n7. **非自愿住院治疗**。\\n\\n### 3. **出院后管理建议**\\n- 家属签署相关协议书及心理疏导。\\n- **定期监测血压血清锂盐酸苯海索等药物不良反应（帕利哌酮6mgQD、Aloperazine5mgTid；碳酸锂片0.250mg/日，阿立哌唑西泮30mg晚治疗。  \\n- **定期营养、睡眠咨询**。\\n- 患者出院后仍需持续监测药物副作用及心理干预，家属加强看护患者。\\n\\n### 4. **家庭成员及患者的教育与支持性因素，自行吞服多量增加（夜间2小时），白天小睡1-30分钟。患者建议增加帕利哌酮剂量到5mg晚。  \\n**治疗时再次出现失眠、易入睡，食欲减退，饮食少动，伴有体重变化。**\\n- **考虑抑郁症状：** 伤手臂，家属及时发现及药物干预。 \\n- 建议使用电刺激睡眠障碍可能需口服助眠药。\\n- **患者出院后继续门诊管理情况维持并加强心理调护。2日**住院治疗期间：10月19日\\n- 精神症状好转出院。\\n\\n**总结建议：**\\n- 持续监测锂盐等药物副作用，并调整剂量。\\n- 加强家庭支持及个体化心理干预。\\n- 监测睡眠变化，必要时采用药物辅助改善。\\n- 家属应随时了解患者状况并及时汇报医生。', '3分', '3分', '3分', '3分', '3 分', '3分', '1', '3分', '1', '1', '3分', '2', '2', '2', '2分', '1', '1', '1', '3分', '3分', '3分', '1', '1', '3分', '2', '3', '2 分', '3分', '1', '3分', '1', '2分', '3分', '3分', '1', '根据您提供的信息，患者的病情似乎呈现出双相情感障碍反复发作的趋势，并伴有多种精神症状的波动，如疑心重、紧张焦虑，夜间睡眠较差；近期又出现了兴奋话多的情况，这说明患者的情绪管理依然存在挑战。此外，患者服用百乐眠（可能是指苯二氮卓治疗7天，目前仍在门诊服药控制，但仍有抑郁症状残留。这些情况需要综合的精神卫生支持和药物治疗策略调整是非常必要的。\\n\\n建议：\\n\\n1. **专业评估**：鉴于患者自服用了多种抗精神病药物后出现了泌乳素升高、抑郁持续，喹硫平戒断等处理后，需要再次由精神科评估是否继续使用或调整治疗方案。 \\n2. **个体化管理**：考虑双相治疗可能需逐步减少，喹硫平等调整剂量。\\n3. **心理支持与行为疗法**：加入认知行为疗法、家庭治疗，患者出现严重抑郁症状加重，家属劝阻时冲动，建议在药物控制的同时寻求心理咨询师指导。 \\n4. **监测及跟进频率增加**：定期评估精神状态和药物副作用，必要时，家属需密切观察并及时处理。\\n5. **环境调整与家人沟通**：尽量减少患者压力源，创造一个相对安全的环境。\\n6. **考虑电击式治疗**：对于反复发作及严重抑郁症状下可考虑短期电击治疗。\\n\\n总之患者需要持续的专业医疗监控，家庭支持和认知行为疗法”介入治疗来增强应对压力，同时监测药物副作用。', '2', '根据您提供的信息，这位患者似乎患有双相情感障碍伴有精神病性症状和躁狂发作。在过去的几年中，他的病情已经经历了多个阶段的波动，并且最近由于家庭问题再次出现了严重的症状表现。\\n\\n以下是针对该患者的治疗建议：\\n\\n### 1. 定期评估与随访\\n由于这是一个持续的精神健康状况，定期的心理评估和药物调整是非常重要的。医生会根据患者的具体情况进行个性化的药物调整，包括可能需要增加或减少某些药物剂量，并密切监控其反应等副作用的出现，应该及时报告给医生。\\n\\n### 24小时就想去找。\\n- **抗精神病性治疗**：快速氟哌啶醇、奥氮平、碳酸锂这些药类药物可以帮助控制情绪兴奋和焦虑。例如在住院期间已经使用的丙戊酸钠缓释片1000月，可能需要持续监测是否有效，并根据其精神障碍伴躁狂发作”。\\n- **心理治疗**：建议参与认知行为疗法等支持，以帮助患者认识自己的行为及改变应对机制、减少冲动性行为。\\n\\n### 2. 康复与生活方式调整\\n- 释片100mg日和碳酸锂最大剂量05g/日、奥氮平片10mg/日等维持治疗，并且鼓励规律作息，确保睡眠充足。这有助于控制精神症状。\\n- **保持健康的生活方式**：保持健康的饮食习惯,均衡的营养补充维生素B群、定期锻炼以增强体力。\\n- **社交支持网络**：与亲友建立良好的沟通和分享感受，减轻家庭压力。\\n- 希明医生建议患者参加社区康复项目或心理咨询门诊进行情绪烦躁不安，并且食欲增加，体重增加，睡眠质量下降。在家中也出现了焦虑不安。\\n- 这时需要及时与家属配合调整药物剂量或者加用安非自愿住院前母亲气病要给一个女性了，这使家人感到焦虑减轻。\\n\\n### 4. 处理急性期\\n由于患者处于不稳定状态时需医院急诊处理，确保安全及规律服药后回家继续生活，必要时安排在家。医生可能需要考虑使用药物控制症状。\\n\\n- **紧急干预**：如有必要可以进行2023年4月1日出院后3月-28日，患者持续情绪波动不稳定、外跑至医院急诊病房住院治疗，诊断为双相情感障碍躁狂发作，给予奥氮平片20mg/日，丙戊酸钠缓释片/日，碳酸锂片0.5g/日10000mg，劳拉西泮片1.0mg/日和盐酸可出院后规律服药保持，并持续监测病情变化。\\n\\n总之，患者需要长期管理治疗，家属与医生一起协作制定一个有效、稳定的家人。', '根据您提供的信息，这位患者的病史似乎呈现出双相情感障碍反复发作的躁狂状态伴精神病性症状”，并伴有分裂样症状，这表明该患者存在复杂的精神健康状况。其治疗历史包括多种药物如奥氮平、丙戊酸钠、碳酸锂、利培酮等。\\n\\n近期患者的情况表现出行为及情绪波动较为频繁，表现为自言自笑，但因感觉自己很聪明可以学会很多东西，睡眠规律性差，情绪不稳定，冲动，想去做工作等。这在部分英文，还存在明显的记忆和计划多，想法不一致，一会想要找一份稳定的工作，又很高。容易生气、脾气大，有时觉得被剥夺了什么都会，觉得找工作很简单，甚至有考研的意愿也很大胆。\\n\\n鉴于该患者目前的状态（如经常需要靠家人帮助），建议重点在以下方面：\\n\\n1. 家属需紧密监督服药，保持规律服药。\\n2. 耐心解释病情，药物好处治疗的益处，确保按时按量服药。\\n3. 需要积极干预心理问题，可以通过心理咨询、认知行为疗法等减轻症状。 \\n4. 注意患者安全，避免可能发生的冲动行为或危险情况，必要时可以考虑进行短期住院观察和管理。\\n5. 通过家庭治疗，帮助其改善与家人之间的沟通方式，建立良好的支持系统。\\n\\n建议尽快寻求精神科医生的专业指导，并根据最新的临床指南开具合适的药物。同时，提供一个温暖而支持的家庭环境对于患者的康复也是必不可少的一步。', '根据患者的情况描述，可以总结出以下几点关键信息：\\n\\n1. **疾病特点**：\\n   - 患者的酒精依赖问题已经持续多年。\\n   - 近期频繁饮酒，每日摄入大量42度或52度白酒，导致出现酒精中毒和戒断症状。\\n\\n2. **目前健康状况**：\\n   - 便秘、小便费力等消化系统相关的问题。\\n   - 睡眠质量差，几乎不入睡。\\n   - 饮食和生活规律明显受损，近期情绪低落、呆愣等症状显著加重。\\n\\n3. **治疗需求与护理要点**：\\n   - 酒精脱瘾和支持性心理干预是当前主要的治疗措施之一。戒酒非常重要，同时需要密切监测酒精中毒症状。\\n   - 补充B族维生素（特别是维生素B1）以预防韦尼克脑病等并发症。\\n   - 稳定情绪和改善睡眠状态也是重要目标，可以使用适当的抗抑郁药物如喹硫平来辅助。\\n   - 需要持续的支持性护理，包括营养支持和心理疏导。\\n\\n4. **康复与随访**：\\n   - 从急性期治疗过渡到长期的康复计划中。这可能包括继续服用维持剂量的药物、定期复诊以及进行心理咨询。\\n   - 加强家庭成员的理解和支持，建立健康的生活习惯，并提供必要的社会资源帮助患者重新融入正常生活。\\n\\n5. **非自愿入院问题**：\\n   由于患者的病况非常严重且已经对生活造成了较大影响，医院在处理这类病例时通常会采用非自愿住院的方式。家属已签署相关协议书以确保治疗过程顺利进行。\\n   \\n综上所述，综合使用药物治疗、心理干预和支持性护理是患者当前治疗的关键策略。同时需要家庭和社会的支持参与患者的康复过程。', '2分', '2']\n",
      "[2, 2, 1, 1, 3, 5, 3, 3, 3, 3, 1, 1, 2, 1, 3, 1, 3, 3, 3, 3, 3, 3, 1, 3, 1, 1, 3, 2, 2, 2, 2, 1, 1, 1, 3, 3, 3, 1, 1, 3, 2, 3, 2, 3, 1, 3, 1, 2, 3, 3, 1, 7, 2, 1, 1, 1, 2, 2]\n",
      "58\n",
      "2.189655172413793\n",
      "1.1364933446673788\n"
     ]
    }
   ],
   "source": [
    "import re\n",
    "\n",
    "print(interview_score_dzz)\n",
    "interview_score_int = []\n",
    "for score in interview_score_dzz:\n",
    "    match = re.search(r'\\d+', str(score))\n",
    "    if match:\n",
    "        interview_score_int.append(int(match.group()))\n",
    "print(interview_score_int)\n",
    "print(len(interview_score_int))\n",
    "print(np.mean(interview_score_int))\n",
    "print(np.std(interview_score_int))"
   ]
  },
  {
   "cell_type": "code",
   "execution_count": 7,
   "id": "766005b0",
   "metadata": {},
   "outputs": [
    {
     "name": "stdout",
     "output_type": "stream",
     "text": [
      "101\n",
      "[159702, 159803, 159798, 44, 159839, 159840, 157908, 44968, 157535, 41, 142136, 34093, 89576, 160088, 160163, 160171, 116120, 133287, 82380, 60292, 18, 118998, 160311, 120890, 160354, 160382, 159057, 9, 159751, 160426, 160438, 148923, 86204, 160478, 160523, 160540, 160474, 160341, 160537, 31, 62, 160669, 130879, 160708, 155999, 135662, 160764]\n",
      "47\n"
     ]
    }
   ],
   "source": [
    "records_ipids = dzz_records['IPID'].tolist()\n",
    "find_ipids = dzz_basic_df['IPID'].tolist()\n",
    "find_mrids = dzz_basic_df['ADMINISSION_NO'].tolist()\n",
    "print(len(records_ipids))\n",
    "# print(find_mrids)\n",
    "# print(find_ipids)\n",
    "not_found_ipids = []\n",
    "for ipid in records_ipids:\n",
    "    if ipid not in find_ipids and ipid not in find_mrids:\n",
    "        # print(ipid)\n",
    "        not_found_ipids.append(ipid)\n",
    "\n",
    "print(not_found_ipids)\n",
    "print(len(not_found_ipids))\n"
   ]
  },
  {
   "cell_type": "code",
   "execution_count": null,
   "id": "b53dc37b",
   "metadata": {},
   "outputs": [
    {
     "name": "stdout",
     "output_type": "stream",
     "text": [
      "100\n",
      "{'patient_info': '患者女性，53岁。\\n现病史：2013年左右患者开始信佛，家中供奉佛龛，因帮女儿带孩子，患者尚未投入过多精力，能正常照顾孩子，完成家务。近一年，女儿辞职在家带孩子，患者自己时间较前增多，逐步沉迷学佛，家属觉与患者聊天“不在同一频道”，不与家人聊家长里短的事情，整日做学佛相关的事情，家属诉一天中有90%左右的时间都在干与佛教相关的事。以前可以和女儿出去运动，美容，近一年也少参加，总在家打坐、念经。2022年1月9号下午，家属回家后发现患者在床上躺着，语乱，说有人要杀自己，自己要去杀人，说别人是谁谁转世，家人、亲戚朋友是狐狸精，耽误自己转世，要把他弄死。手乱比划，咬住家人不松口。家人报警，在120协助下来我院急诊。急诊诊断为“缄默状态、焦虑状态”，给予氟哌啶醇5mg肌注治疗，状态有改善，能交流，对之前发生的事情能够回忆。1月10日家人带其到某医院就诊，住院治疗10天，诊断“急性而短暂的精神障碍”，予以利培酮2mg/晚，劳拉西泮0.5mg/晚治疗，自觉好转后出院。出院服药2天自行停药，停药后情绪低落、周身不适、紧张胸闷、呼吸困难，停药1天恢复用药，症状有所改善，合并中药调理身体，但仍有以上问题。家人担心患者身体有其他问题，1月25日至1月30日在潞河医院住院治疗，做了详细身体检查，未见明显异常。加用氢溴酸西酞普兰10mg/晚，利培酮2mg/晚，劳拉西泮0.5mg/晚治疗，今日再次来我院就诊门诊以“抑郁状态”第1次收入院。本次为非自愿入院。入院前2周，患者饮食可，夜眠可，小便正常，有便秘，体重无明显变化。无发热、咳嗽、腹泻等表现。患者为非自愿住院，家属已签署非自愿住院相关协议书。\\n既往史：2019年因月经不调行刮宫术\\n家族史：阳性，患者姨疑似精神异常，未予诊治\\n查体，精神检查及辅助检查：查体未见明显异常。辅助检查：2022-02-10，超声：目前心脏未见明显异常；2022-02-10，超声：肝内钙化灶；2022-02-10，心电图：窦性心律，大致正常心电图。补充诊断：肝内钙化点。\\n精神检查：患者意识清晰，定向力完整，接触可，问答合作，患者报告对家属提供病史内容能够承认，自诉在来我院急诊前，自己多独自在家，会觉有人支配自己，会说一些胡话，如狐狸精、观音转世之类的话，在我院急诊接受治疗后好转，之后未再出现言行紊乱问题；患者诉近来自己在家怕吵，怕独处，自觉胆小，但独处时会觉发闷，经常发呆，脑子发木，反应慢，会感乏累，近偶尔可做一点擦地的活，无法胜任其他家务；总感不开心，心里难受时会哭，做事没什么兴趣，就觉自己不会笑了，偶有轻生的想法；患者自诉坐月子时会怕吵，有烦躁，否认情绪差等体验，目前月经不规律，近一月未来，无潮热、出汗等表现。饮食可，入睡困难，情感反应协调，自知力可。\\n入院日期：2022年02月08日\\n答：', 'psychgpt_diagnosis': '<think>好的，我现在需要仔细分析这个病例，然后根据ICD-10标准给出主要诊断和可能的共病诊断。首先，患者是53岁女性，主要症状包括近一年沉迷学佛，行为改变，出现被害妄想（认为有人要杀自己，亲戚是狐狸精等），以及言语紊乱，急诊时被诊断为缄默和焦虑状态。之前住院被诊断为急性短暂性精神障碍，现在以抑郁状态入院。\\n\\n首先，主要症状中有明显的妄想，如被害妄想、转世观念，以及言语紊乱和攻击行为。这些症状提示可能属于精神分裂症谱系障碍。根据ICD-10，偏执型精神分裂症（F20.0）的特征是以持续存在的妄想为主，常伴有幻觉，但其他症状如紧张症或思维紊乱可能不明显。患者的表现符合偏执型，因为她有明确的被害妄想和关系妄想（亲戚是狐狸精），同时之前出现过言语紊乱和攻击行为，可能属于精神病性症状。\\n\\n接下来，患者有抑郁症状，包括情绪低落、兴趣丧失、轻生念头、睡眠问题等。但需要确定这是否属于精神分裂症后抑郁（F20.4）还是共病的抑郁发作。精神分裂症后抑郁是指在精神分裂症急性期之后出现的抑郁发作，而患者目前的精神病性症状在治疗后有所改善，但仍有抑郁症状。根据现病史，她在停药后出现抑郁症状，但之前有精神病发作。根据ICD-10，如果抑郁出现在精神分裂症活动期之后，应考虑F20.4。然而，患者目前是否处于精神分裂症的活动期还是残留期需要判断。根据描述，她在治疗后精神病性症状改善，但仍有残留症状如发呆、反应慢，这可能指向残留型精神分裂症（F20.5）。但主要诊断需要看当前主要症状。\\n\\n不过，患者最近的住院主诉是抑郁状态，但主要病史中的精神病性发作在之前治疗后好转，现在的主要症状是抑郁，因此可能需要考虑双相或复发性抑郁障碍。但患者没有明确的躁狂或轻躁狂发作史，家族史中姨有精神异常但不确定类型。此外，患者之前被诊断为急性短暂性精神障碍，但ICD-10中急性短暂性精神障碍属于F23.-，但可选代码中没有包括，所以可能需要重新考虑。\\n\\n可能的主要诊断是精神分裂症后抑郁（F20.4），如果抑郁发生在精神分裂症的病程之后。但需要确认是否符合。或者，如果当前抑郁是独立的，则可能诊断为复发性抑郁障碍。但患者之前是否有过抑郁发作？现病史中提到坐月子时有烦躁，但没有明确抑郁发作，因此复发性可能不成立。此外，患者目前有精神病性症状的历史，但现在治疗后没有明显精神病性症状，但仍有抑郁，可能属于精神分裂症后抑郁。因此主要诊断可能是F20.4。\\n\\n但另一个可能性是双相情感障碍，目前为抑郁发作。但患者没有躁狂史，只有之前的急性精神病性发作，可能被归类为精神分裂症。因此，主要诊断可能还是精神分裂症，具体亚型。之前的发作有明确的妄想和紊乱行为，可能符合偏执型（F20.0），但之后出现抑郁，所以如果当前主要问题是抑郁，则可能作为主要诊断是F20.4，但需要确认时间顺序。\\n\\n根据ICD-10，精神分裂症后抑郁（F20.4）必须满足在过去12个月内曾符合精神分裂症的诊断标准，且目前符合抑郁发作的标准。患者最近一次精神病发作在2022年1月，而当前在2月入院时主要症状为抑郁，因此符合时间范围。因此，主要诊断应为F20.4。同时，是否有共病？患者目前有焦虑症状，如紧张、胆小、怕吵，可能符合广泛性焦虑障碍（F41.1），但需要更多是否符合持续存在的焦虑。或者，可能作为抑郁的一部分，不单独诊断。因此，共病可能无。或者，如果存在持续的焦虑障碍，则F41.1。但根据描述，焦虑症状出现在抑郁状态下，可能属于抑郁发作的一部分，所以共病可能无。\\n</think>\\n<answer>\\n\\n主要诊断：F20.4 精神分裂症后抑郁  \\n精神科共病诊断：无</answer>', 'psychgpt_differential': '<think>好的，我现在需要处理这个病例，作为精神科医生，首先要仔细分析患者的信息，然后进行鉴别诊断。患者是53岁的女性，主要问题出现在近一年，之前有逐渐沉迷佛教活动的迹象，之后出现急性精神病性症状，比如被害妄想、攻击行为，还有幻觉的可能？然后急诊处理后诊断为急性短暂性精神病障碍，但后来停药后出现抑郁焦虑症状，再次入院诊断为抑郁状态。现在需要确定主要诊断和鉴别诊断。\\n\\n首先，基本信息：女性，53岁，病前性格可能正常，因为之前能照顾孩子和处理家务。家族史中有姨有精神异常，但未诊治，可能有遗传因素。起病诱因是近一年时间增多，沉迷佛教，这可能是一个应激因素或诱因。病程方面，从2013年开始信佛，但近一年加重，出现明显的行为改变，然后急性发作在2022年1月9日出现精神病性症状，持续到住院治疗，之后反复出现停药后的症状波动。\\n\\n症状分析：急性发作时有被害妄想（有人要杀她）、关系妄想（家人是狐狸精）、转世妄想，攻击行为，缄默状态，之后药物治疗有效。之后停药出现情绪低落、兴趣减退、轻生念头、躯体症状如便秘、睡眠问题等。现在精神检查显示有抑郁症状，如情绪低落、兴趣丧失、反应迟钝，同时有焦虑症状如怕吵、独处困难，但当前没有明显的精神病性症状，自知力存在。\\n\\n需要考虑的疾病包括急性而短暂的精神病性障碍（之前被诊断过），双相情感障碍（是否有躁狂或抑郁发作），分裂情感性障碍，精神分裂症，抑郁障碍伴精神病性症状，以及器质性精神障碍等。此外，家族史阳性可能指向精神分裂症或双相，但患者年龄较大，首次发作可能更倾向于急性短暂性障碍。\\n\\n但患者之前有急性精神病性发作，后来出现抑郁症状，且精神病性症状在治疗后缓解，现在主要表现是抑郁症状。但根据ICD-10，如果精神病性症状在抑郁发作期间出现，可能需要考虑抑郁障碍伴精神病性症状。但患者的精神病性症状在首次发作时是急性且短暂的，之后停药后出现的是抑郁和焦虑，而非精神病性复发。所以主要诊断可能还是急性而短暂的精神病性障碍，但需要与复发性抑郁障碍（当前抑郁发作）和精神分裂症鉴别。\\n\\n另外，双相情感障碍需要看是否有躁狂或轻躁狂发作，目前没有描述，所以可能性较低。分裂情感性障碍需要同时满足精神分裂症和情感障碍的标准，但患者发作时间较短，可能不符合。器质性方面检查未见异常，可以排除。\\n\\n鉴别诊断时，复发性抑郁障碍需要考虑是否当前抑郁发作是主要问题，但患者之前有精神病性症状，可能属于伴精神病性症状的抑郁发作。但根据病程，精神病性症状在急性发作时出现，治疗后消失，而抑郁症状在停药后出现，可能属于不同的发作阶段。需要看是否符合抑郁发作的标准，以及是否符合急性短暂性精神病性障碍的病程（通常不超过1个月，但这里可能因为治疗而缓解）。\\n\\n另一个鉴别是精神分裂症，但患者症状持续时间短，且在治疗后缓解，没有持续性的阴性症状或衰退，所以不太符合。\\n\\n综上，主要诊断可能是急性而短暂的精神病性障碍，因为急性发作符合症状标准且持续时间短。鉴别诊断需要考虑复发性抑郁障碍（当前为抑郁发作，可能有精神病性症状）和精神分裂症（需排除持续性症状）。\\n</think>\\n<answer>\\n\\n**鉴别诊断分析：**  \\n1. **患者基本信息**：女性，53岁，病前性格无明显异常，可正常完成家务及照顾孩子。家族史中患者姨存在疑似精神异常（具体不详）。  \\n2. **起病诱因及病程**：  \\n   - **诱因**：近一年因时间增多沉迷学佛，社会功能逐渐退缩（减少社交活动，专注宗教行为）。  \\n   - **病程**：  \\n     - **急性发作期**（2022年1月9日）：突发被害妄想（“有人要杀自己”）、转世妄想（“亲戚是狐狸精转世”）、攻击行为，伴缄默及焦虑，急诊治疗后迅速缓解。  \\n     - **慢性波动期**：停药后出现抑郁（情绪低落、兴趣丧失、轻生念头）、焦虑（紧张、胸闷）及躯体症状（便秘、入睡困难），恢复用药后部分改善。  \\n   - **模式**：急性精神病性症状发作后，残留情感及焦虑症状，病程呈急性发作-缓解-波动性恶化。  \\n3. **既往史及家族史**：  \\n   - 2019年刮宫术（与精神症状无直接关联），辅助检查未见器质性病因。  \\n   - 家族史提示遗传易感性（姨疑似精神异常）。  \\n4. **症状分析**：  \\n   - **核心精神病性症状**（已缓解）：被害/转世妄想、言语紊乱、攻击行为（符合急性精神病性障碍）。  \\n   - **当前主要症状**：情感低落、兴趣丧失、反应迟钝、轻生观念（抑郁症状群）；焦虑（怕吵、独处恐惧）、躯体化症状（符合抑郁障碍伴焦虑特征）。  \\n   - **无持续精神病性症状**：急诊治疗后妄想未再发，当前无幻觉或脱离现实的思维障碍。  \\n\\n---  \\n**诊断：**  \\n1. **主要诊断**：  \\n   **[急性而短暂的精神病性障碍]**（ICD-10 F23）  \\n   - **依据**：急性突发妄想、言语行为紊乱，症状持续≤1个月（急诊治疗后迅速缓解），无器质性病因，伴显著应激诱因（宗教行为过度投入）。  \\n\\n2. **鉴别诊断**：  \\n   <鉴别诊断1>**[复发性抑郁障碍]**（ICD-10 F33），鉴别点：  \\n   - 患者当前以抑郁症状为主（情绪低落、兴趣丧失、轻生观念），但精神病性症状（妄想、攻击行为）已完全缓解且与抑郁发作不同时存在，不符合“抑郁发作伴精神病性症状”的诊断。  \\n   - 急性精神病性症状独立于抑郁病程，且符合F23的短暂性（≤1个月）特征。  \\n\\n   <鉴别诊断2>**[精神分裂症]**（ICD-10 F20），鉴别点：  \\n   - 患者缺乏持续≥1个月的核心症状（如荒谬妄想、瓦解性语言、阴性症状），且急性症状完全缓解后未再发。  \\n   - 社会功能损害较轻（仍可完成简单家务），无慢性化或衰退表现，病程不符合精神分裂症的进行性恶化模式。  \\n\\n---  \\n**结论**：患者以急性精神病性症状起病，符合F23病程标准，需优先排除器质性病因后诊断。抑郁焦虑症状可能为精神病性障碍的残留或共病，但不足以独立构成复发性抑郁障碍或双相情感障碍的诊断。</answer>', 'psychgpt_medication': '<think>好的，我现在需要处理这个病例。患者是一位53岁的女性，主要问题是从2013年开始信佛，但最近一年变得沉迷，行为异常，出现幻觉和妄想，比如认为家人是狐狸精，有攻击行为。之前急诊用氟哌啶醇有效，后来住院诊断为急性短暂性精神障碍，用利培酮和劳拉西泮，出院后自行停药导致症状反复，现在有抑郁状态，再次入院。\\n\\n首先，分析之前的用药情况。急诊时氟哌啶醇5mg肌注有效，说明抗精神病药对她有效。之后住院用利培酮2mg每晚，劳拉西泮0.5mg，效果不错但出院后停药导致症状复发。后来加用西酞普兰10mg晚，可能因为出现抑郁症状。现在的问题是，她仍有抑郁症状，如情绪低落、兴趣减退、轻生想法，同时之前的精神病性症状可能控制住了，但需要维持治疗。\\n\\n需要考虑诊断是否正确。急性短暂性精神障碍通常在1个月内缓解，但她的症状可能有持续，现在出现抑郁，可能要考虑是否双相情感障碍或精神分裂症？不过她之前有明确的应激因素（沉迷佛教），所以急性短暂性精神障碍可能还是合适的。但长期来看，需要观察是否转为其他疾病，比如分裂情感性障碍或抑郁症伴精神病性症状。\\n\\n现在她入院时有抑郁状态，同时之前有精神病性症状。目前用药是利培酮、劳拉西泮和西酞普兰。但西酞普兰剂量较低，可能效果不足。需要评估是否需要调整抗抑郁药，同时维持抗精神病药。利培酮是第二代抗精神病药，对阳性和阴性症状有效，但可能导致体重增加、EPS等副作用。患者是否有锥体外系反应？病例中没有提到，但需要监测。\\n\\n她的抑郁症状明显，可能需要更强的抗抑郁治疗。西酞普兰属于SSRI，但10mg剂量可能太低，通常起始剂量是20mg，可能需要调整。但需要注意SSRI可能诱发躁狂或激活精神病性症状，尤其是在有精神病性病史的患者中。不过她目前精神病性症状已控制，联用抗精神病药可能减少这种风险。或者换用SNRI类药物如度洛西汀或文拉法辛，或者考虑米氮平，后者对睡眠有帮助，但可能增加体重。\\n\\n另外，患者有便秘问题，SSRI类药物可能导致胃肠道副作用，需要留意。米氮平可能加重便秘吗？可能，因为抗组胺作用会引起口干、便秘。而SNRI如度洛西汀可能导致恶心，但可能对躯体症状更有效。\\n\\n另外，患者之前用利培酮有效，但长期使用需要考虑副作用，比如催乳素升高，可能导致月经不调。她已经有月经不调，可能与利培酮有关。可能需要换用对催乳素影响小的抗精神病药，比如阿立哌唑或喹硫平。不过喹硫平有镇静作用，可能帮助睡眠，而阿立哌唑的代谢副作用较少。但阿立哌唑可能对阴性症状更好，而喹硫平对情绪稳定有帮助。\\n\\n患者现在有失眠，劳拉西泮是苯二氮卓类，长期使用可能依赖，可能需要逐渐替换为非苯二氮卓类药物，比如曲唑酮或米氮平，但当前可能需要继续使用，但应计划减量。\\n\\n此外，患者有肝内钙化灶，需注意肝脏代谢的药物，选择对肝影响较小的药物。利培酮主要经肝代谢，需监测肝功能。如果换药，阿立哌唑部分经肝代谢，但可能影响较小。喹硫平同样需注意肝脏情况。西酞普兰在肝功能不全时需要调整剂量，但她的肝功能检查未见明显异常，可能可以继续，但需监测。\\n\\n关于抑郁症状，可能需要优化抗抑郁治疗。当前西酞普兰10mg可能不足，可增加到20mg，或者换成艾司西酞普兰，副作用更少。或者如果效果不好，换用SNRI如度洛西汀。此外，如果患者有焦虑，度洛西汀可能更合适。不过需要看患者对SSRI的反应。\\n\\n另外，患者有自杀想法，需要密切监测，可能需选择安全性高的抗抑郁药，如SSRI或SNRI，但避免TCAs。\\n\\n综合来看，当前的用药方案可能存在的问题是抗抑郁药剂量不足，以及长期使用利培酮可能导致的副作用。因此，建议：\\n\\n1. 调整抗抑郁药：将西酞普兰增加到20mg/天，或者换成艾司西酞普兰10-20mg/天，或者换成度洛西汀，起始30mg逐渐加至60mg。\\n\\n2. 考虑更换抗精神病药以减少催乳素影响：如换成阿立哌唑，起始5mg，逐渐调整到10-15mg，或者喹硫平，低剂量起始，如50mg晚，逐渐加量。\\n\\n3. 劳拉西泮长期使用的问题，可考虑逐渐减量，替换为其他助眠药，如曲唑酮25-50mg，但需注意血压。\\n\\n此外，患者有便秘，可建议增加纤维摄入，或使用缓泻剂，同时避免加重便秘的药物。\\n\\n可能的推荐药物：\\n\\n抗精神病药：阿立哌唑（优先考虑对催乳素影响小），喹硫平（帮助镇静和情绪），奥氮平（但代谢副作用大）。如果利培酮有效且耐受，可以继续，但需监测催乳素和月经情况。\\n\\n抗抑郁药：艾司西酞普兰，度洛西汀，或增加西酞普兰剂量。若之前西酞普兰效果不佳，换用其他。\\n\\n辅助用药：如果焦虑明显，继续劳拉西泮短期使用，长期考虑换用其他。\\n\\n综上，推荐药物可能需要优先调整抗抑郁药，如艾司西酞普兰，其次调整抗精神病药为阿立哌唑或喹硫平，同时维持劳拉西泮短期使用。\\n</think>\\n<answer>\\n\\n分析：患者诊断为急性而短暂的精神障碍，目前以抑郁症状为主，伴有残留焦虑及既往精神病性发作史。既往使用利培酮（2mg）有效控制精神病性症状，但自行停药后出现戒断反应及抑郁加重。加用西酞普兰（10mg）后抑郁症状改善有限，可能与剂量不足或药物选择有关。利培酮可能导致催乳素升高（患者月经不规律需警惕），而劳拉西泮长期使用存在依赖风险。患者肝内钙化灶需注意药物肝代谢负担，便秘问题需避免加重胃肠副作用的药物。\\n\\n推荐药物：艾司西酞普兰, 阿立哌唑, 喹硫平, 度洛西汀, 曲唑酮</answer>', 'junior_diagnosis': '回答：伴有精神病性症状的重度抑郁发作（90%）', 'junior_differential': '回答：双相情感障碍、精神分裂症', 'junior_medication': '回答：度洛西汀、伏硫西汀、舍曲林、阿立哌唑、哌啰匹隆\\n首选改善抑郁伴有躯体不适的抗抑郁药物\\n谨慎使用会导致药源性抑郁及焦虑当然药物', 'intermediate_diagnosis': '回答：\\nF44.- 分离性障碍 80%', 'intermediate_differential': '回答：\\n精神分裂症:患者存在被害妄想，语乱，意志活动减退，应考虑该疾病，但患者被附体体验明显，且间断病程，排除该诊断', 'intermediate_medication': '回答：\\n利培酮 既往服用有效，对精神病性症状效果较好\\n奥氮平\\n舍曲林\\n避免使用丙戊酸钠缓释片\\n用时4分20秒', 'senior_diagnosis': '回答：F32.301 伴有精神病性症状的重度抑郁发作  （80%）', 'senior_differential': '回答：1.分离转换障碍；2.双相情感障碍；3.精神分裂症', 'senior_medication': ''}\n"
     ]
    }
   ],
   "source": [
    "# post reader study\n",
    "# 比较在病例分析方面，PsychGPT与不同年资精神科专业医生的表现\n",
    "\n",
    "from docx import Document\n",
    "import re\n",
    "\n",
    "def read_docx(filename):\n",
    "    doc = Document(filename)\n",
    "    text = []\n",
    "    for paragraph in doc.paragraphs:\n",
    "        text.append(paragraph.text)\n",
    "    return '\\n'.join(text)\n",
    "\n",
    "\n",
    "# PsychGPT\n",
    "diagnosis_data = []\n",
    "with open(r'D:\\work\\code\\psychgpt\\prospective\\post_readerstudy\\task2_psychgpt.jsonl', 'r', encoding='utf-8') as f:\n",
    "    for line in f:\n",
    "        newline = eval(line)\n",
    "        diagnosis_data.append(newline)\n",
    "\n",
    "differential_data = []\n",
    "with open(r'D:\\work\\code\\psychgpt\\prospective\\post_readerstudy\\task3_psychgpt.jsonl', 'r', encoding='utf-8') as f:\n",
    "    for line in f:\n",
    "        newline = eval(line)\n",
    "        differential_data.append(newline)\n",
    "\n",
    "medication_data = []\n",
    "with open(r'D:\\work\\code\\psychgpt\\prospective\\post_readerstudy\\task4_psychgpt.jsonl', 'r', encoding='utf-8') as f:\n",
    "    for line in f:\n",
    "        newline = eval(line)\n",
    "        medication_data.append(newline)\n",
    "\n",
    "data = []\n",
    "for i in range(len(diagnosis_data)):\n",
    "    patient_info = diagnosis_data[i]['conversations'][0]['value'].split('请根据你的知识给出专业详细的回答。\\n')[1]\n",
    "    diagnosis = diagnosis_data[i]['chosen']['value']\n",
    "    differential = differential_data[i]['chosen']['value']\n",
    "    medication = medication_data[i]['chosen']['value']\n",
    "    data.append({\n",
    "        'patient_info': patient_info,\n",
    "        'psychgpt_diagnosis': diagnosis,\n",
    "        'psychgpt_differential': differential,\n",
    "        'psychgpt_medication': medication\n",
    "    })\n",
    "\n",
    "\n",
    "# 医生\n",
    "path = r\"D:\\work\\code\\psychgpt_benchmark\\reader-study\\results\\全部回答.docx\"\n",
    "content = read_docx(path)\n",
    "\n",
    "# print(content)\n",
    "cases = re.split(r'病例\\d+', content)[1:]\n",
    "for i, case in enumerate(cases):\n",
    "    \n",
    "    junior_answers = re.search(r'第一组：(.*?)第二组：', case, re.DOTALL).group(1).strip()\n",
    "    intermediate_answers = re.search(r'第三组：(.*?)第四组：', case, re.DOTALL).group(1).strip()\n",
    "    senior_answers = re.search(r'第五组：(.*?)第六组：', case, re.DOTALL).group(1).strip()\n",
    "    \n",
    "    if junior_answers == '============================================================':\n",
    "        junior_answers = '问题1：未提供\\n问题2：未提供\\n问题3：未提供'\n",
    "    if intermediate_answers == '============================================================':\n",
    "        intermediate_answers = '问题1：未提供\\n问题2：未提供\\n问题3：未提供'\n",
    "    if senior_answers == '============================================================':\n",
    "        senior_answers = '问题1：未提供\\n问题2：未提供\\n问题3：未提供'\n",
    "    \n",
    "    data[i]['junior_diagnosis'] = re.search(r'问题1(.*?)问题2', junior_answers, re.DOTALL).group(1).strip()\n",
    "    data[i]['junior_differential'] = re.search(r'问题2(.*?)问题3', junior_answers, re.DOTALL).group(1).strip()\n",
    "    try:\n",
    "        data[i]['junior_medication'] = re.search(r'问题3(.*?)问题1', junior_answers, re.DOTALL).group(1).strip()\n",
    "    except:\n",
    "        data[i]['junior_medication'] = re.search(r'问题3(.*?)', junior_answers, re.DOTALL).group(1).strip()\n",
    "\n",
    "    data[i]['intermediate_diagnosis'] = re.search(r'问题1(.*?)问题2', intermediate_answers, re.DOTALL).group(1).strip()\n",
    "    data[i]['intermediate_differential'] = re.search(r'问题2(.*?)问题3', intermediate_answers, re.DOTALL).group(1).strip()\n",
    "    try:\n",
    "        data[i]['intermediate_medication'] = re.search(r'问题3(.*?)问题1', intermediate_answers, re.DOTALL).group(1).strip()\n",
    "    except:\n",
    "        data[i]['intermediate_medication'] = re.search(r'问题3(.*?)', intermediate_answers, re.DOTALL).group(1).strip()\n",
    "        \n",
    "    data[i]['senior_diagnosis'] = re.search(r'问题1(.*?)问题2', senior_answers, re.DOTALL).group(1).strip()\n",
    "    data[i]['senior_differential'] = re.search(r'问题2(.*?)问题3', senior_answers, re.DOTALL).group(1).strip()\n",
    "    try:\n",
    "        data[i]['senior_medication'] = re.search(r'问题3(.*?)问题1', senior_answers, re.DOTALL).group(1).strip()\n",
    "    except:\n",
    "        data[i]['senior_medication'] = re.search(r'问题3(.*?)', senior_answers, re.DOTALL).group(1).strip()\n",
    "    \n",
    "\n",
    "print(len(data))\n",
    "print(data[0])\n",
    "\n",
    "with open(r'D:\\work\\code\\psychgpt\\prospective\\post_readerstudy\\psychgpt_psychiatrists.jsonl', 'w', encoding='utf-8') as f:\n",
    "    for line in data:\n",
    "        f.write(json.dumps(line, ensure_ascii=False) + '\\n')\n"
   ]
  },
  {
   "cell_type": "code",
   "execution_count": 58,
   "id": "56b529d5",
   "metadata": {},
   "outputs": [
    {
     "name": "stdout",
     "output_type": "stream",
     "text": [
      "300\n",
      "['PsychGPT', 'PsychGPT', 'PsychGPT', 'PsychGPT', 'PsychGPT', 'PsychGPT', 'PsychGPT', 'Senior', 'PsychGPT', 'PsychGPT', 'PsychGPT', 'PsychGPT', 'Senior', 'Senior', 'Junior', 'PsychGPT', 'PsychGPT', 'PsychGPT', 'Senior', 'PsychGPT', 'PsychGPT', 'PsychGPT', 'PsychGPT', 'PsychGPT', 'Senior', 'PsychGPT', 'PsychGPT', 'PsychGPT', 'PsychGPT', 'Senior', 'PsychGPT', 'PsychGPT', 'Junior', 'Senior', 'PsychGPT', 'PsychGPT', 'PsychGPT', 'PsychGPT', 'Senior', 'Junior', 'PsychGPT', 'PsychGPT', 'PsychGPT', 'Senior', 'PsychGPT', 'Intermediate', 'Intermediate', 'PsychGPT', 'PsychGPT', 'Junior', 'PsychGPT', 'PsychGPT', 'PsychGPT', 'PsychGPT', 'PsychGPT', 'PsychGPT', 'PsychGPT', 'PsychGPT', 'PsychGPT', 'PsychGPT', 'PsychGPT', 'PsychGPT', 'Senior', 'PsychGPT', 'PsychGPT', 'PsychGPT', 'PsychGPT', 'PsychGPT', 'Senior', 'PsychGPT', 'Senior', 'Senior', 'PsychGPT', 'PsychGPT', 'PsychGPT', 'PsychGPT', 'PsychGPT', 'Senior', 'PsychGPT', 'PsychGPT', 'PsychGPT', 'PsychGPT', 'PsychGPT', 'Senior', 'PsychGPT', 'PsychGPT', 'PsychGPT', 'PsychGPT', 'PsychGPT', 'PsychGPT', 'PsychGPT', 'PsychGPT', 'PsychGPT', 'Senior', 'PsychGPT', 'PsychGPT', 'PsychGPT', 'Senior', 'Senior', 'PsychGPT', 'Senior', 'Intermediate', 'Intermediate', 'Senior', 'Senior', 'PsychGPT', 'Junior', 'Senior', 'PsychGPT', 'Intermediate', 'Intermediate', 'Senior', 'Intermediate', 'Senior', 'Intermediate', 'Senior', 'PsychGPT', 'Senior', 'PsychGPT', 'Intermediate', 'PsychGPT', 'Senior', 'PsychGPT', 'PsychGPT', 'Senior', 'Senior', 'PsychGPT', 'Junior', 'Senior', 'Senior', 'Junior', 'Senior', 'Senior', 'PsychGPT', 'Intermediate', 'PsychGPT', 'Senior', 'Intermediate', 'Senior', 'Intermediate', 'Junior', 'Intermediate', 'Junior', 'PsychGPT', 'Intermediate', 'Intermediate', 'Intermediate', 'PsychGPT', 'Intermediate', 'Intermediate', 'Junior', 'Intermediate', 'PsychGPT', 'Intermediate', 'Senior', 'Senior', 'Intermediate', 'Junior', 'Intermediate', 'Senior', 'PsychGPT', 'PsychGPT', 'PsychGPT', 'PsychGPT', 'PsychGPT', 'PsychGPT', 'Senior', 'Senior', 'Senior', 'PsychGPT', 'Senior', 'PsychGPT', 'Senior', 'PsychGPT', 'PsychGPT', 'PsychGPT', 'PsychGPT', 'Senior', 'Intermediate', 'PsychGPT', 'PsychGPT', 'Senior', 'PsychGPT', 'Intermediate', 'Intermediate', 'Senior', 'Intermediate', 'Senior', 'Intermediate', 'Intermediate', 'Senior', 'Intermediate', 'Senior', 'Senior', 'Senior', 'Intermediate', 'PsychGPT', 'Senior', 'Senior', 'PsychGPT', 'PsychGPT', 'PsychGPT', 'PsychGPT', 'PsychGPT', 'PsychGPT', 'PsychGPT', 'PsychGPT', 'PsychGPT', 'PsychGPT', 'PsychGPT', 'PsychGPT', 'Intermediate', 'PsychGPT', 'PsychGPT', 'PsychGPT', 'PsychGPT', 'Intermediate', 'PsychGPT', 'Senior', 'PsychGPT', 'PsychGPT', 'PsychGPT', 'PsychGPT', 'PsychGPT', 'PsychGPT', 'PsychGPT', 'PsychGPT', 'Junior', 'PsychGPT', 'PsychGPT', 'Intermediate', 'PsychGPT', 'PsychGPT', 'PsychGPT', 'PsychGPT', 'PsychGPT', 'PsychGPT', 'PsychGPT', 'Senior', 'Intermediate', 'PsychGPT', 'PsychGPT', 'PsychGPT', 'PsychGPT', 'PsychGPT', 'Intermediate', 'PsychGPT', 'PsychGPT', 'PsychGPT', 'PsychGPT', 'PsychGPT', 'PsychGPT', 'PsychGPT', 'PsychGPT', 'PsychGPT', 'PsychGPT', 'PsychGPT', 'PsychGPT', 'PsychGPT', 'PsychGPT', 'PsychGPT', 'PsychGPT', 'PsychGPT', 'PsychGPT', 'PsychGPT', 'PsychGPT', 'PsychGPT', 'PsychGPT', 'PsychGPT', 'PsychGPT', 'PsychGPT', 'PsychGPT', 'PsychGPT', 'PsychGPT', 'PsychGPT', 'PsychGPT', 'PsychGPT', 'Senior', 'PsychGPT', 'PsychGPT', 'PsychGPT', 'PsychGPT', 'PsychGPT', 'PsychGPT', 'PsychGPT', 'PsychGPT', 'Intermediate', 'PsychGPT', 'PsychGPT', 'PsychGPT', 'PsychGPT', 'PsychGPT', 'PsychGPT', 'PsychGPT', 'Senior', 'PsychGPT', 'PsychGPT', 'PsychGPT', 'PsychGPT', 'PsychGPT']\n",
      "195\n",
      "12\n",
      "36\n",
      "57\n"
     ]
    }
   ],
   "source": [
    "# post reader study\n",
    "path = r'D:\\work\\code\\psychgpt\\prospective\\post_readerstudy\\reader_scores.jsonl'\n",
    "\n",
    "# // A给出的病例分析：{psychgpt_ans}\n",
    "# // B给出的病例分析：{junior_ans}\n",
    "# // C给出的病例分析：{intermediate_ans}\n",
    "# // D给出的病例分析：{senior_ans}\n",
    "\n",
    "# // A给出的病例分析：{junior_ans}\n",
    "# // B给出的病例分析：{intermediate_ans}\n",
    "# // C给出的病例分析：{senior_ans}\n",
    "# // D给出的病例分析：{psychgpt_ans}\n",
    "\n",
    "# // A给出的病例分析：{intermediate_ans}\n",
    "# // B给出的病例分析：{psychgpt_ans}\n",
    "# // C给出的病例分析：{junior_ans}\n",
    "# // D给出的病例分析：{senior_ans}\n",
    "\n",
    "data = []\n",
    "with open(path, 'r', encoding='utf-8') as f:\n",
    "    for line in f:\n",
    "        newline = eval(line)\n",
    "        data.append(newline)\n",
    "print(len(data))\n",
    "\n",
    "best = []\n",
    "\n",
    "for i in range(len(data)):\n",
    "    if i >= 0 and i < 100:\n",
    "        if data[i]['偏好排序'][0] == 'A':\n",
    "            best.append('PsychGPT')\n",
    "        elif data[i]['偏好排序'][0] == 'B':\n",
    "            best.append('Junior')\n",
    "        elif data[i]['偏好排序'][0] == 'C':\n",
    "            best.append('Intermediate')\n",
    "        elif data[i]['偏好排序'][0] == 'D':\n",
    "            best.append('Senior')\n",
    "    elif i >= 100 and i < 200:\n",
    "        if data[i]['偏好排序'][0] == 'A':\n",
    "            best.append('Junior')\n",
    "        elif data[i]['偏好排序'][0] == 'B':\n",
    "            best.append('Intermediate')\n",
    "        elif data[i]['偏好排序'][0] == 'C':\n",
    "            best.append('Senior')\n",
    "        elif data[i]['偏好排序'][0] == 'D':\n",
    "            best.append('PsychGPT')\n",
    "    elif i >= 200 and i < 300:\n",
    "        if data[i]['偏好排序'][0] == 'A':\n",
    "            best.append('Intermediate')\n",
    "        elif data[i]['偏好排序'][0] == 'B':\n",
    "            best.append('PsychGPT')\n",
    "        elif data[i]['偏好排序'][0] == 'C':\n",
    "            best.append('Junior')\n",
    "        elif data[i]['偏好排序'][0] == 'D':\n",
    "            best.append('Senior')\n",
    "\n",
    "print(best)\n",
    "print(best.count('PsychGPT'))\n",
    "print(best.count('Junior'))\n",
    "print(best.count('Intermediate'))\n",
    "print(best.count('Senior'))"
   ]
  },
  {
   "cell_type": "code",
   "execution_count": 56,
   "id": "c5561f76",
   "metadata": {},
   "outputs": [
    {
     "name": "stderr",
     "output_type": "stream",
     "text": [
      "c:\\Users\\15113\\anaconda3\\envs\\anding\\lib\\site-packages\\IPython\\core\\pylabtools.py:152: UserWarning: Glyph 23494 (\\N{CJK UNIFIED IDEOGRAPH-5BC6}) missing from current font.\n",
      "  fig.canvas.print_figure(bytes_io, **kw)\n",
      "c:\\Users\\15113\\anaconda3\\envs\\anding\\lib\\site-packages\\IPython\\core\\pylabtools.py:152: UserWarning: Glyph 24230 (\\N{CJK UNIFIED IDEOGRAPH-5EA6}) missing from current font.\n",
      "  fig.canvas.print_figure(bytes_io, **kw)\n",
      "c:\\Users\\15113\\anaconda3\\envs\\anding\\lib\\site-packages\\IPython\\core\\pylabtools.py:152: UserWarning: Glyph 35780 (\\N{CJK UNIFIED IDEOGRAPH-8BC4}) missing from current font.\n",
      "  fig.canvas.print_figure(bytes_io, **kw)\n",
      "c:\\Users\\15113\\anaconda3\\envs\\anding\\lib\\site-packages\\IPython\\core\\pylabtools.py:152: UserWarning: Glyph 20998 (\\N{CJK UNIFIED IDEOGRAPH-5206}) missing from current font.\n",
      "  fig.canvas.print_figure(bytes_io, **kw)\n",
      "c:\\Users\\15113\\anaconda3\\envs\\anding\\lib\\site-packages\\IPython\\core\\pylabtools.py:152: UserWarning: Glyph 31561 (\\N{CJK UNIFIED IDEOGRAPH-7B49}) missing from current font.\n",
      "  fig.canvas.print_figure(bytes_io, **kw)\n",
      "c:\\Users\\15113\\anaconda3\\envs\\anding\\lib\\site-packages\\IPython\\core\\pylabtools.py:152: UserWarning: Glyph 32423 (\\N{CJK UNIFIED IDEOGRAPH-7EA7}) missing from current font.\n",
      "  fig.canvas.print_figure(bytes_io, **kw)\n",
      "c:\\Users\\15113\\anaconda3\\envs\\anding\\lib\\site-packages\\IPython\\core\\pylabtools.py:152: UserWarning: Glyph 30340 (\\N{CJK UNIFIED IDEOGRAPH-7684}) missing from current font.\n",
      "  fig.canvas.print_figure(bytes_io, **kw)\n",
      "c:\\Users\\15113\\anaconda3\\envs\\anding\\lib\\site-packages\\IPython\\core\\pylabtools.py:152: UserWarning: Glyph 22534 (\\N{CJK UNIFIED IDEOGRAPH-5806}) missing from current font.\n",
      "  fig.canvas.print_figure(bytes_io, **kw)\n",
      "c:\\Users\\15113\\anaconda3\\envs\\anding\\lib\\site-packages\\IPython\\core\\pylabtools.py:152: UserWarning: Glyph 21472 (\\N{CJK UNIFIED IDEOGRAPH-53E0}) missing from current font.\n",
      "  fig.canvas.print_figure(bytes_io, **kw)\n",
      "c:\\Users\\15113\\anaconda3\\envs\\anding\\lib\\site-packages\\IPython\\core\\pylabtools.py:152: UserWarning: Glyph 38754 (\\N{CJK UNIFIED IDEOGRAPH-9762}) missing from current font.\n",
      "  fig.canvas.print_figure(bytes_io, **kw)\n",
      "c:\\Users\\15113\\anaconda3\\envs\\anding\\lib\\site-packages\\IPython\\core\\pylabtools.py:152: UserWarning: Glyph 31215 (\\N{CJK UNIFIED IDEOGRAPH-79EF}) missing from current font.\n",
      "  fig.canvas.print_figure(bytes_io, **kw)\n",
      "c:\\Users\\15113\\anaconda3\\envs\\anding\\lib\\site-packages\\IPython\\core\\pylabtools.py:152: UserWarning: Glyph 22270 (\\N{CJK UNIFIED IDEOGRAPH-56FE}) missing from current font.\n",
      "  fig.canvas.print_figure(bytes_io, **kw)\n",
      "c:\\Users\\15113\\anaconda3\\envs\\anding\\lib\\site-packages\\IPython\\core\\pylabtools.py:152: UserWarning: Glyph 32452 (\\N{CJK UNIFIED IDEOGRAPH-7EC4}) missing from current font.\n",
      "  fig.canvas.print_figure(bytes_io, **kw)\n",
      "c:\\Users\\15113\\anaconda3\\envs\\anding\\lib\\site-packages\\IPython\\core\\pylabtools.py:152: UserWarning: Glyph 21035 (\\N{CJK UNIFIED IDEOGRAPH-522B}) missing from current font.\n",
      "  fig.canvas.print_figure(bytes_io, **kw)\n"
     ]
    },
    {
     "data": {
      "image/png": "[encoded data removed]",
      "text/plain": [
       "<Figure size 1000x600 with 1 Axes>"
      ]
     },
     "metadata": {},
     "output_type": "display_data"
    }
   ],
   "source": [
    "import numpy as np\n",
    "import pandas as pd\n",
    "import matplotlib.pyplot as plt\n",
    "from scipy.stats import gaussian_kde\n",
    "\n",
    "# 设置随机种子以保证结果可复现\n",
    "np.random.seed(42)\n",
    "\n",
    "# 生成仿真数据\n",
    "categories = ['Very poor', 'Poor', 'Acceptable', 'Good', 'Very good']\n",
    "data = {\n",
    "    'Category': np.repeat(categories, 100),\n",
    "    'Score': np.random.choice([1, 2, 3, 4, 5], size=500),\n",
    "    'Group': np.random.choice(['Group 1', 'Group 2', 'Group 3'], size=500)\n",
    "}\n",
    "\n",
    "df = pd.DataFrame(data)\n",
    "\n",
    "# 将评分等级映射到数值\n",
    "score_map = {1: 'Very poor', 2: 'Poor', 3: 'Acceptable', 4: 'Good', 5: 'Very good'}\n",
    "df['Category'] = df['Score'].map(score_map)\n",
    "\n",
    "# 计算密度\n",
    "x = np.linspace(1, 5, 1000)\n",
    "density_data = []\n",
    "\n",
    "for group in df['Group'].unique():\n",
    "    group_data = df[df['Group'] == group]['Score']\n",
    "    kde = gaussian_kde(group_data, bw_method=0.5)\n",
    "    density = kde(x)\n",
    "    density_data.append(density)\n",
    "\n",
    "# 绘制堆叠面积图\n",
    "plt.figure(figsize=(10, 6))\n",
    "\n",
    "for i, density in enumerate(density_data):\n",
    "    plt.fill_between(x, density, alpha=0.3, label=f'Group {i+1}')\n",
    "\n",
    "plt.title('评分等级的堆叠面积图')\n",
    "plt.xlabel('评分等级')\n",
    "plt.ylabel('密度')\n",
    "plt.legend(title='组别')\n",
    "plt.show()"
   ]
  }
 ],
 "metadata": {
  "kernelspec": {
   "display_name": "anding",
   "language": "python",
   "name": "python3"
  },
  "language_info": {
   "codemirror_mode": {
    "name": "ipython",
    "version": 3
   },
   "file_extension": ".py",
   "mimetype": "text/x-python",
   "name": "python",
   "nbconvert_exporter": "python",
   "pygments_lexer": "ipython3",
   "version": "3.10.13"
  }
 },
 "nbformat": 4,
 "nbformat_minor": 5
}
